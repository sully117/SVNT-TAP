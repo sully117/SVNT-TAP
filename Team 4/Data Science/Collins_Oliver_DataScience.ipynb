{
 "cells": [
  {
   "cell_type": "markdown",
   "metadata": {},
   "source": [
    "### Import data and analyze"
   ]
  },
  {
   "cell_type": "code",
   "execution_count": 2,
   "metadata": {},
   "outputs": [
    {
     "name": "stderr",
     "output_type": "stream",
     "text": [
      "/usr/local/lib/python2.7/site-packages/scipy/spatial/__init__.py:96: ImportWarning: Not importing directory '/usr/local/lib/python2.7/site-packages/scipy/spatial/qhull': missing __init__.py\n",
      "  from .qhull import *\n",
      "/usr/local/lib/python2.7/site-packages/scipy/optimize/_minimize.py:37: ImportWarning: Not importing directory '/usr/local/lib/python2.7/site-packages/scipy/optimize/lbfgsb': missing __init__.py\n",
      "  from .lbfgsb import _minimize_lbfgsb\n"
     ]
    }
   ],
   "source": [
    "import numpy as np\n",
    "import matplotlib.pyplot as plt\n",
    "import pandas as pd\n",
    "\n",
    "# ML Libraries\n",
    "from sklearn.linear_model import LinearRegression\n",
    "from sklearn.naive_bayes import GaussianNB\n",
    "from sklearn.linear_model import LogisticRegression\n",
    "from sklearn.tree import DecisionTreeClassifier\n",
    "from sklearn.neural_network import MLPClassifier\n",
    "from sklearn.metrics import accuracy_score"
   ]
  },
  {
   "cell_type": "code",
   "execution_count": 3,
   "metadata": {},
   "outputs": [
    {
     "name": "stdout",
     "output_type": "stream",
     "text": [
      "       category_id         views         likes      dislikes  comment_count\n",
      "count   200.000000  2.000000e+02  2.000000e+02    200.000000     200.000000\n",
      "mean     19.180000  9.554945e+05  3.759931e+04   1398.295000    3398.300000\n",
      "std       7.860441  2.726132e+06  1.417012e+05   3979.344076   11689.329648\n",
      "min       1.000000  7.310000e+02  0.000000e+00      0.000000       0.000000\n",
      "25%      10.000000  8.547000e+04  1.892250e+03     72.000000     242.750000\n",
      "50%      23.000000  2.702765e+05  6.688000e+03    218.500000     841.500000\n",
      "75%      25.000000  8.266188e+05  2.003150e+04    987.750000    1796.500000\n",
      "max      29.000000  3.155392e+07  1.604674e+06  41767.000000  124505.000000\n"
     ]
    }
   ],
   "source": [
    "df = pd.read_csv('./USvideos.csv')\n",
    "print(df.describe())"
   ]
  },
  {
   "cell_type": "code",
   "execution_count": 4,
   "metadata": {},
   "outputs": [
    {
     "name": "stdout",
     "output_type": "stream",
     "text": [
      "      video_id trending_date  \\\n",
      "0  1ZAPwfrtAFY      17.13.11   \n",
      "1  5qpjK5DgCt4      17.13.11   \n",
      "2  puqaWrEC7tY      17.13.11   \n",
      "3  d380meD0W0M      17.13.11   \n",
      "4  nc99ccSXST0      17.13.11   \n",
      "\n",
      "                                               title          channel_title  \\\n",
      "0  The Trump Presidency: Last Week Tonight with J...        LastWeekTonight   \n",
      "1  Racist Superman | Rudy Mancuso, King Bach & Le...           Rudy Mancuso   \n",
      "2                   Nickleback Lyrics: Real or Fake?  Good Mythical Morning   \n",
      "3                           I Dare You: GOING BALD!?               nigahiga   \n",
      "4                5 Ice Cream Gadgets put to the Test     CrazyRussianHacker   \n",
      "\n",
      "   category_id              publish_time  \\\n",
      "0           24  2017-11-13T07:30:00.000Z   \n",
      "1           23  2017-11-12T19:05:24.000Z   \n",
      "2           24  2017-11-13T11:00:04.000Z   \n",
      "3           24  2017-11-12T18:01:41.000Z   \n",
      "4           28  2017-11-12T21:50:37.000Z   \n",
      "\n",
      "                                                tags    views   likes  \\\n",
      "0  last week tonight trump presidency|\"last week ...   993345   65551   \n",
      "1  racist superman|\"rudy\"|\"mancuso\"|\"king\"|\"bach\"...  2568721  132724   \n",
      "2  rhett and link|\"gmm\"|\"good mythical morning\"|\"...   118585    6183   \n",
      "3  ryan|\"higa\"|\"higatv\"|\"nigahiga\"|\"i dare you\"|\"...  1867990  123933   \n",
      "4  5 Ice Cream Gadgets|\"Ice Cream\"|\"Cream Sandwic...   669608   21357   \n",
      "\n",
      "   dislikes  comment_count                                  thumbnail_link  \\\n",
      "0      3544           8128  https://i.ytimg.com/vi/1ZAPwfrtAFY/default.jpg   \n",
      "1      4495           7494  https://i.ytimg.com/vi/5qpjK5DgCt4/default.jpg   \n",
      "2       361           1374  https://i.ytimg.com/vi/puqaWrEC7tY/default.jpg   \n",
      "3      1836          16635  https://i.ytimg.com/vi/d380meD0W0M/default.jpg   \n",
      "4       591           3050  https://i.ytimg.com/vi/nc99ccSXST0/default.jpg   \n",
      "\n",
      "   comments_disabled  ratings_disabled  video_error_or_removed  \\\n",
      "0              False             False                   False   \n",
      "1              False             False                   False   \n",
      "2              False             False                   False   \n",
      "3              False             False                   False   \n",
      "4              False             False                   False   \n",
      "\n",
      "                                         description  \n",
      "0  One year after the presidential election, John...  \n",
      "1  WATCH MY PREVIOUS VIDEO ▶ \\n\\nSUBSCRIBE ► http...  \n",
      "2  Today we find out if Link is a Nickelback amat...  \n",
      "3  I know it's been a while since we did this sho...  \n",
      "4  Ice Cream Pint Combination Lock - http://amzn....  \n"
     ]
    }
   ],
   "source": [
    "print(df.head())"
   ]
  },
  {
   "cell_type": "code",
   "execution_count": 5,
   "metadata": {},
   "outputs": [
    {
     "data": {
      "image/png": "[encoded data removed]",
      "text/plain": [
       "<Figure size 432x288 with 1 Axes>"
      ]
     },
     "metadata": {
      "needs_background": "light"
     },
     "output_type": "display_data"
    }
   ],
   "source": [
    "df.plot(x='publish_time', y='likes', style='+')\n",
    "plt.title('Publish Time v. # of Likes')\n",
    "plt.xlabel('Publish Time')\n",
    "plt.ylabel('Like Count')\n",
    "plt.show()"
   ]
  },
  {
   "cell_type": "code",
   "execution_count": 6,
   "metadata": {},
   "outputs": [
    {
     "data": {
      "image/png": "[encoded data removed]",
      "text/plain": [
       "<Figure size 432x288 with 1 Axes>"
      ]
     },
     "metadata": {
      "needs_background": "light"
     },
     "output_type": "display_data"
    }
   ],
   "source": [
    "df.plot(x='publish_time', y='views', style='+')\n",
    "plt.title('Publish Time v. # of Views')\n",
    "plt.xlabel('Publish Time')\n",
    "plt.ylabel('View Count')\n",
    "plt.show()"
   ]
  },
  {
   "cell_type": "code",
   "execution_count": 7,
   "metadata": {},
   "outputs": [
    {
     "data": {
      "text/plain": [
       "<matplotlib.axes._subplots.AxesSubplot at 0x108345510>"
      ]
     },
     "execution_count": 7,
     "metadata": {},
     "output_type": "execute_result"
    },
    {
     "data": {
      "image/png": "[encoded data removed]",
      "text/plain": [
       "<Figure size 432x288 with 1 Axes>"
      ]
     },
     "metadata": {
      "needs_background": "light"
     },
     "output_type": "display_data"
    }
   ],
   "source": [
    "# Plot based on ratio of likes to dislikes\n",
    "(df[\"likes\"]/df[\"dislikes\"]).plot()"
   ]
  },
  {
   "cell_type": "code",
   "execution_count": 8,
   "metadata": {},
   "outputs": [
    {
     "name": "stdout",
     "output_type": "stream",
     "text": [
      "10    45\n",
      "24    41\n",
      "26    20\n",
      "22    20\n",
      "28    12\n",
      "23    12\n",
      "1     11\n",
      "27    10\n",
      "25     9\n",
      "17     9\n",
      "15     4\n",
      "20     2\n",
      "19     2\n",
      "2      2\n",
      "29     1\n",
      "Name: category_id, dtype: int64\n"
     ]
    }
   ],
   "source": [
    "category_id = df['category_id'].value_counts()\n",
    "\n",
    "print(category_id)"
   ]
  },
  {
   "cell_type": "code",
   "execution_count": 9,
   "metadata": {},
   "outputs": [
    {
     "data": {
      "text/plain": [
       "<matplotlib.axes._subplots.AxesSubplot at 0x117613310>"
      ]
     },
     "execution_count": 9,
     "metadata": {},
     "output_type": "execute_result"
    },
    {
     "data": {
      "image/png": "[encoded data removed]",
      "text/plain": [
       "<Figure size 432x288 with 1 Axes>"
      ]
     },
     "metadata": {
      "needs_background": "light"
     },
     "output_type": "display_data"
    }
   ],
   "source": [
    "# Plot based on importance of category_id\n",
    "df.plot(x='category_id', y='views', style='+')"
   ]
  },
  {
   "cell_type": "code",
   "execution_count": 10,
   "metadata": {},
   "outputs": [
    {
     "data": {
      "text/html": [
       "<div>\n",
       "<style scoped>\n",
       "    .dataframe tbody tr th:only-of-type {\n",
       "        vertical-align: middle;\n",
       "    }\n",
       "\n",
       "    .dataframe tbody tr th {\n",
       "        vertical-align: top;\n",
       "    }\n",
       "\n",
       "    .dataframe thead th {\n",
       "        text-align: right;\n",
       "    }\n",
       "</style>\n",
       "<table border=\"1\" class=\"dataframe\">\n",
       "  <thead>\n",
       "    <tr style=\"text-align: right;\">\n",
       "      <th></th>\n",
       "      <th>likes</th>\n",
       "      <th>dislikes</th>\n",
       "      <th>comment_count</th>\n",
       "      <th>views</th>\n",
       "      <th>category_id</th>\n",
       "    </tr>\n",
       "  </thead>\n",
       "  <tbody>\n",
       "    <tr>\n",
       "      <th>0</th>\n",
       "      <td>65551</td>\n",
       "      <td>3544</td>\n",
       "      <td>8128</td>\n",
       "      <td>993345</td>\n",
       "      <td>24</td>\n",
       "    </tr>\n",
       "    <tr>\n",
       "      <th>1</th>\n",
       "      <td>132724</td>\n",
       "      <td>4495</td>\n",
       "      <td>7494</td>\n",
       "      <td>2568721</td>\n",
       "      <td>23</td>\n",
       "    </tr>\n",
       "    <tr>\n",
       "      <th>2</th>\n",
       "      <td>6183</td>\n",
       "      <td>361</td>\n",
       "      <td>1374</td>\n",
       "      <td>118585</td>\n",
       "      <td>24</td>\n",
       "    </tr>\n",
       "    <tr>\n",
       "      <th>3</th>\n",
       "      <td>123933</td>\n",
       "      <td>1836</td>\n",
       "      <td>16635</td>\n",
       "      <td>1867990</td>\n",
       "      <td>24</td>\n",
       "    </tr>\n",
       "    <tr>\n",
       "      <th>4</th>\n",
       "      <td>21357</td>\n",
       "      <td>591</td>\n",
       "      <td>3050</td>\n",
       "      <td>669608</td>\n",
       "      <td>28</td>\n",
       "    </tr>\n",
       "  </tbody>\n",
       "</table>\n",
       "</div>"
      ],
      "text/plain": [
       "    likes  dislikes  comment_count    views  category_id\n",
       "0   65551      3544           8128   993345           24\n",
       "1  132724      4495           7494  2568721           23\n",
       "2    6183       361           1374   118585           24\n",
       "3  123933      1836          16635  1867990           24\n",
       "4   21357       591           3050   669608           28"
      ]
     },
     "execution_count": 10,
     "metadata": {},
     "output_type": "execute_result"
    }
   ],
   "source": [
    "filtered_df = df[['likes','dislikes','comment_count','views','category_id']]\n",
    "filtered_df.head()"
   ]
  },
  {
   "cell_type": "code",
   "execution_count": 11,
   "metadata": {},
   "outputs": [
    {
     "name": "stderr",
     "output_type": "stream",
     "text": [
      "/usr/local/lib/python2.7/site-packages/pandas/core/indexing.py:189: SettingWithCopyWarning: \n",
      "A value is trying to be set on a copy of a slice from a DataFrame\n",
      "\n",
      "See the caveats in the documentation: http://pandas.pydata.org/pandas-docs/stable/indexing.html#indexing-view-versus-copy\n",
      "  self._setitem_with_indexer(indexer, value)\n",
      "/usr/local/lib/python2.7/site-packages/ipykernel_launcher.py:11: SettingWithCopyWarning: \n",
      "A value is trying to be set on a copy of a slice from a DataFrame\n",
      "\n",
      "See the caveats in the documentation: http://pandas.pydata.org/pandas-docs/stable/indexing.html#indexing-view-versus-copy\n",
      "  # This is added back by InteractiveShellApp.init_path()\n"
     ]
    }
   ],
   "source": [
    "# Virality level\n",
    "for index, row in filtered_df.iterrows():\n",
    "    if filtered_df.loc[index, 'views'] < 50000:\n",
    "        filtered_df.loc[index, 'views'] = 0\n",
    "    elif filtered_df.loc[index, 'views'] < 100000:\n",
    "        filtered_df.loc[index, 'views'] = 1\n",
    "    elif filtered_df.loc[index, 'views'] < 250000:\n",
    "        filtered_df.loc[index, 'views'] = 2\n",
    "    elif filtered_df.loc[index, 'views'] < 500000:\n",
    "        filtered_df.loc[index, 'views'] = 3\n",
    "    elif filtered_df.loc[index, 'views'] < 1000000:\n",
    "        filtered_df.loc[index, 'views'] = 4\n",
    "    elif filtered_df.loc[index, 'views'] < 2500000:\n",
    "        filtered_df.loc[index, 'views'] = 5\n",
    "    elif filtered_df.loc[index, 'views'] < 5000000:\n",
    "        filtered_df.loc[index, 'views'] = 6\n",
    "    else:\n",
    "        filtered_df.loc[index, 'views'] = 7"
   ]
  },
  {
   "cell_type": "code",
   "execution_count": 12,
   "metadata": {},
   "outputs": [
    {
     "data": {
      "text/html": [
       "<div>\n",
       "<style scoped>\n",
       "    .dataframe tbody tr th:only-of-type {\n",
       "        vertical-align: middle;\n",
       "    }\n",
       "\n",
       "    .dataframe tbody tr th {\n",
       "        vertical-align: top;\n",
       "    }\n",
       "\n",
       "    .dataframe thead th {\n",
       "        text-align: right;\n",
       "    }\n",
       "</style>\n",
       "<table border=\"1\" class=\"dataframe\">\n",
       "  <thead>\n",
       "    <tr style=\"text-align: right;\">\n",
       "      <th></th>\n",
       "      <th>likes</th>\n",
       "      <th>dislikes</th>\n",
       "      <th>comment_count</th>\n",
       "      <th>views</th>\n",
       "      <th>category_id</th>\n",
       "    </tr>\n",
       "  </thead>\n",
       "  <tbody>\n",
       "    <tr>\n",
       "      <th>0</th>\n",
       "      <td>65551</td>\n",
       "      <td>3544</td>\n",
       "      <td>8128</td>\n",
       "      <td>4</td>\n",
       "      <td>24</td>\n",
       "    </tr>\n",
       "    <tr>\n",
       "      <th>1</th>\n",
       "      <td>132724</td>\n",
       "      <td>4495</td>\n",
       "      <td>7494</td>\n",
       "      <td>6</td>\n",
       "      <td>23</td>\n",
       "    </tr>\n",
       "    <tr>\n",
       "      <th>2</th>\n",
       "      <td>6183</td>\n",
       "      <td>361</td>\n",
       "      <td>1374</td>\n",
       "      <td>2</td>\n",
       "      <td>24</td>\n",
       "    </tr>\n",
       "    <tr>\n",
       "      <th>3</th>\n",
       "      <td>123933</td>\n",
       "      <td>1836</td>\n",
       "      <td>16635</td>\n",
       "      <td>5</td>\n",
       "      <td>24</td>\n",
       "    </tr>\n",
       "    <tr>\n",
       "      <th>4</th>\n",
       "      <td>21357</td>\n",
       "      <td>591</td>\n",
       "      <td>3050</td>\n",
       "      <td>4</td>\n",
       "      <td>28</td>\n",
       "    </tr>\n",
       "  </tbody>\n",
       "</table>\n",
       "</div>"
      ],
      "text/plain": [
       "    likes  dislikes  comment_count  views  category_id\n",
       "0   65551      3544           8128      4           24\n",
       "1  132724      4495           7494      6           23\n",
       "2    6183       361           1374      2           24\n",
       "3  123933      1836          16635      5           24\n",
       "4   21357       591           3050      4           28"
      ]
     },
     "execution_count": 12,
     "metadata": {},
     "output_type": "execute_result"
    }
   ],
   "source": [
    "filtered_df.head()"
   ]
  },
  {
   "cell_type": "markdown",
   "metadata": {},
   "source": [
    "---"
   ]
  },
  {
   "cell_type": "markdown",
   "metadata": {},
   "source": [
    "### Machine Learning Models"
   ]
  },
  {
   "cell_type": "code",
   "execution_count": 13,
   "metadata": {},
   "outputs": [
    {
     "name": "stdout",
     "output_type": "stream",
     "text": [
      "(157, 43)\n"
     ]
    }
   ],
   "source": [
    "# Create testing and training data\n",
    "msk = np.random.rand(len(filtered_df)) < 0.8\n",
    "\n",
    "df_train = df[msk]\n",
    "df_test = df[~msk]\n",
    "\n",
    "print(len(df_train), len(df_test))"
   ]
  },
  {
   "cell_type": "code",
   "execution_count": 14,
   "metadata": {},
   "outputs": [],
   "source": [
    "# Predict view count based on likes, dislikes, comment_count\n",
    "X_train = filtered_df.iloc[:, 0:3]\n",
    "Y_train = filtered_df.iloc[:, 3]\n",
    "\n",
    "X_test = filtered_df.iloc[:, 0:3]\n",
    "Y_test = filtered_df.iloc[:, 3]"
   ]
  },
  {
   "cell_type": "code",
   "execution_count": 15,
   "metadata": {},
   "outputs": [
    {
     "name": "stdout",
     "output_type": "stream",
     "text": [
      "Logistic Regression accuracy:  0.1500\n",
      "MLP Classifier accuracy:       0.1000\n",
      "Decision Tree accuracy:        0.7050\n",
      "Gaussian Naïve Bayes accuracy: 0.5450\n"
     ]
    }
   ],
   "source": [
    "# MLP Classifier\n",
    "MLP = MLPClassifier(hidden_layer_sizes=(50, 200), random_state=123)\n",
    "MLP.fit(X_train[:1000], Y_train[:1000])\n",
    "\n",
    "# Decision Tree Classifier\n",
    "decision_tree = DecisionTreeClassifier(max_depth=6, min_samples_leaf=3, random_state=123)\n",
    "decision_tree.fit(X_train[:1000], Y_train[:1000])\n",
    "\n",
    "# Logistic Regression\n",
    "log_reg = LogisticRegression(multi_class='ovr', solver='lbfgs', random_state=123)\n",
    "log_reg.fit(X_train[:1000], Y_train[:1000])\n",
    "\n",
    "# Gaussian Naïve Bayes\n",
    "Gauss = GaussianNB()\n",
    "Gauss.fit(X_train[:1000], Y_train[:1000])\n",
    "\n",
    "print(\"Logistic Regression accuracy:  %0.4f\" % accuracy_score(Y_test, log_reg.predict(X_test)))\n",
    "print(\"MLP Classifier accuracy:       %0.4f\" % accuracy_score(Y_test, MLP.predict(X_test)))\n",
    "print(\"Decision Tree accuracy:        %0.4f\" % accuracy_score(Y_test, decision_tree.predict(X_test)))\n",
    "print(\"Gaussian Naïve Bayes accuracy: %0.4f\" % accuracy_score(Y_test, Gauss.predict(X_test)))"
   ]
  }
 ],
 "metadata": {
  "anaconda-cloud": {},
  "kernelspec": {
   "display_name": "Python 2",
   "language": "python",
   "name": "python2"
  },
  "language_info": {
   "codemirror_mode": {
    "name": "ipython",
    "version": 2
   },
   "file_extension": ".py",
   "mimetype": "text/x-python",
   "name": "python",
   "nbconvert_exporter": "python",
   "pygments_lexer": "ipython2",
   "version": "2.7.15"
  }
 },
 "nbformat": 4,
 "nbformat_minor": 1
}
