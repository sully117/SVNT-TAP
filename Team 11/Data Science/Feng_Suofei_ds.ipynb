{
 "cells": [
  {
   "cell_type": "code",
   "execution_count": 1,
   "metadata": {},
   "outputs": [],
   "source": [
    "import pandas as pd\n",
    "import numpy as np\n",
    "import matplotlib\n",
    "import matplotlib.pyplot as plt\n",
    "import sklearn\n",
    "from sklearn import preprocessing\n",
    "from sklearn import metrics\n",
    "from sklearn.model_selection import train_test_split, RandomizedSearchCV, GridSearchCV\n",
    "from sklearn.ensemble import RandomForestRegressor\n",
    "from sklearn.metrics import mean_squared_error\n",
    "import seaborn as sns\n",
    "import torchtext\n",
    "from torchtext.vocab import FastText"
   ]
  },
  {
   "cell_type": "code",
   "execution_count": 2,
   "metadata": {},
   "outputs": [],
   "source": [
    "CA = pd.read_csv(\"data/CAvideos.csv\")\n",
    "CA['region'] = \"CA\""
   ]
  },
  {
   "cell_type": "code",
   "execution_count": 3,
   "metadata": {},
   "outputs": [],
   "source": [
    "DE = pd.read_csv(\"data/DEvideos.csv\")\n",
    "DE['region'] = \"DE\""
   ]
  },
  {
   "cell_type": "code",
   "execution_count": 4,
   "metadata": {},
   "outputs": [],
   "source": [
    "FR = pd.read_csv(\"data/FRvideos.csv\")\n",
    "FR['region'] = \"FR\""
   ]
  },
  {
   "cell_type": "code",
   "execution_count": 5,
   "metadata": {},
   "outputs": [],
   "source": [
    "GB = pd.read_csv(\"data/GBvideos.csv\")\n",
    "GB['region'] = \"GB\""
   ]
  },
  {
   "cell_type": "code",
   "execution_count": 6,
   "metadata": {},
   "outputs": [],
   "source": [
    "IN = pd.read_csv(\"data/INvideos.csv\")\n",
    "IN['region'] = \"IN\""
   ]
  },
  {
   "cell_type": "code",
   "execution_count": 7,
   "metadata": {},
   "outputs": [],
   "source": [
    "US = pd.read_csv(\"data/USvideos.csv\")\n",
    "US['region'] = \"US\""
   ]
  },
  {
   "cell_type": "code",
   "execution_count": 8,
   "metadata": {},
   "outputs": [],
   "source": [
    "full_data = pd.concat([CA, GB, IN, US], ignore_index = True)"
   ]
  },
  {
   "cell_type": "code",
   "execution_count": 9,
   "metadata": {},
   "outputs": [
    {
     "data": {
      "text/plain": [
       "Index(['video_id', 'trending_date', 'title', 'channel_title', 'category_id',\n",
       "       'publish_time', 'tags', 'views', 'likes', 'dislikes', 'comment_count',\n",
       "       'thumbnail_link', 'comments_disabled', 'ratings_disabled',\n",
       "       'video_error_or_removed', 'description', 'region'],\n",
       "      dtype='object')"
      ]
     },
     "execution_count": 9,
     "metadata": {},
     "output_type": "execute_result"
    }
   ],
   "source": [
    "full_data.columns"
   ]
  },
  {
   "cell_type": "code",
   "execution_count": 10,
   "metadata": {},
   "outputs": [
    {
     "data": {
      "text/html": [
       "<div>\n",
       "<style scoped>\n",
       "    .dataframe tbody tr th:only-of-type {\n",
       "        vertical-align: middle;\n",
       "    }\n",
       "\n",
       "    .dataframe tbody tr th {\n",
       "        vertical-align: top;\n",
       "    }\n",
       "\n",
       "    .dataframe thead th {\n",
       "        text-align: right;\n",
       "    }\n",
       "</style>\n",
       "<table border=\"1\" class=\"dataframe\">\n",
       "  <thead>\n",
       "    <tr style=\"text-align: right;\">\n",
       "      <th></th>\n",
       "      <th>total</th>\n",
       "      <th>percent</th>\n",
       "    </tr>\n",
       "  </thead>\n",
       "  <tbody>\n",
       "    <tr>\n",
       "      <th>description</th>\n",
       "      <td>3039</td>\n",
       "      <td>0.019222</td>\n",
       "    </tr>\n",
       "    <tr>\n",
       "      <th>likes</th>\n",
       "      <td>0</td>\n",
       "      <td>0.000000</td>\n",
       "    </tr>\n",
       "    <tr>\n",
       "      <th>video_error_or_removed</th>\n",
       "      <td>0</td>\n",
       "      <td>0.000000</td>\n",
       "    </tr>\n",
       "    <tr>\n",
       "      <th>ratings_disabled</th>\n",
       "      <td>0</td>\n",
       "      <td>0.000000</td>\n",
       "    </tr>\n",
       "    <tr>\n",
       "      <th>comments_disabled</th>\n",
       "      <td>0</td>\n",
       "      <td>0.000000</td>\n",
       "    </tr>\n",
       "  </tbody>\n",
       "</table>\n",
       "</div>"
      ],
      "text/plain": [
       "                        total   percent\n",
       "description              3039  0.019222\n",
       "likes                       0  0.000000\n",
       "video_error_or_removed      0  0.000000\n",
       "ratings_disabled            0  0.000000\n",
       "comments_disabled           0  0.000000"
      ]
     },
     "execution_count": 10,
     "metadata": {},
     "output_type": "execute_result"
    }
   ],
   "source": [
    "full_data.isnull().sum().sort_values(ascending=False) #count missing values\n",
    "number = full_data.isnull().sum().sort_values(ascending=False)\n",
    "percent = (full_data.isnull().sum())/full_data.isnull().count().sort_values(ascending=False)\n",
    "missing_df=pd.concat([number, percent], axis=1,keys=['total', 'percent'],sort=False).sort_values('total',ascending=False)\n",
    "missing_df.head()"
   ]
  },
  {
   "cell_type": "code",
   "execution_count": 11,
   "metadata": {},
   "outputs": [
    {
     "data": {
      "image/png": "[encoded data removed]",
      "text/plain": [
       "<Figure size 864x864 with 2 Axes>"
      ]
     },
     "metadata": {
      "needs_background": "light"
     },
     "output_type": "display_data"
    }
   ],
   "source": [
    "#the four features \n",
    "plt.figure(figsize=(12,12))\n",
    "ax=sns.heatmap(full_data.corr(),annot=True)"
   ]
  },
  {
   "cell_type": "code",
   "execution_count": 12,
   "metadata": {},
   "outputs": [],
   "source": [
    "#we chose number of views as the label, and we need to first deal with missing data in description\n",
    "full_data['description'].fillna(\"#\", inplace=True)"
   ]
  },
  {
   "cell_type": "code",
   "execution_count": 13,
   "metadata": {},
   "outputs": [
    {
     "data": {
      "text/html": [
       "<div>\n",
       "<style scoped>\n",
       "    .dataframe tbody tr th:only-of-type {\n",
       "        vertical-align: middle;\n",
       "    }\n",
       "\n",
       "    .dataframe tbody tr th {\n",
       "        vertical-align: top;\n",
       "    }\n",
       "\n",
       "    .dataframe thead th {\n",
       "        text-align: right;\n",
       "    }\n",
       "</style>\n",
       "<table border=\"1\" class=\"dataframe\">\n",
       "  <thead>\n",
       "    <tr style=\"text-align: right;\">\n",
       "      <th></th>\n",
       "      <th>total</th>\n",
       "      <th>percent</th>\n",
       "    </tr>\n",
       "  </thead>\n",
       "  <tbody>\n",
       "    <tr>\n",
       "      <th>region</th>\n",
       "      <td>0</td>\n",
       "      <td>0.0</td>\n",
       "    </tr>\n",
       "    <tr>\n",
       "      <th>description</th>\n",
       "      <td>0</td>\n",
       "      <td>0.0</td>\n",
       "    </tr>\n",
       "    <tr>\n",
       "      <th>video_error_or_removed</th>\n",
       "      <td>0</td>\n",
       "      <td>0.0</td>\n",
       "    </tr>\n",
       "    <tr>\n",
       "      <th>ratings_disabled</th>\n",
       "      <td>0</td>\n",
       "      <td>0.0</td>\n",
       "    </tr>\n",
       "    <tr>\n",
       "      <th>comments_disabled</th>\n",
       "      <td>0</td>\n",
       "      <td>0.0</td>\n",
       "    </tr>\n",
       "  </tbody>\n",
       "</table>\n",
       "</div>"
      ],
      "text/plain": [
       "                        total  percent\n",
       "region                      0      0.0\n",
       "description                 0      0.0\n",
       "video_error_or_removed      0      0.0\n",
       "ratings_disabled            0      0.0\n",
       "comments_disabled           0      0.0"
      ]
     },
     "execution_count": 13,
     "metadata": {},
     "output_type": "execute_result"
    }
   ],
   "source": [
    "full_data.isnull().sum().sort_values(ascending=False) #count missing values\n",
    "number = full_data.isnull().sum().sort_values(ascending=False)\n",
    "percent = (full_data.isnull().sum())/full_data.isnull().count().sort_values(ascending=False)\n",
    "missing_df=pd.concat([number, percent], axis=1,keys=['total', 'percent'],sort=False).sort_values('total',ascending=False)\n",
    "missing_df.head()"
   ]
  },
  {
   "cell_type": "code",
   "execution_count": 14,
   "metadata": {},
   "outputs": [
    {
     "data": {
      "text/plain": [
       "count    1.580980e+05\n",
       "mean     2.613847e+06\n",
       "std      1.059344e+07\n",
       "min      5.490000e+02\n",
       "25%      1.690242e+05\n",
       "50%      4.956635e+05\n",
       "75%      1.530977e+06\n",
       "max      4.245389e+08\n",
       "Name: views, dtype: float64"
      ]
     },
     "execution_count": 14,
     "metadata": {},
     "output_type": "execute_result"
    }
   ],
   "source": [
    "y = full_data[\"views\"]\n",
    "y.describe()"
   ]
  },
  {
   "cell_type": "code",
   "execution_count": 15,
   "metadata": {},
   "outputs": [
    {
     "data": {
      "text/plain": [
       "count    1.580980e+05\n",
       "mean    -1.006727e-17\n",
       "std      1.000000e+00\n",
       "min     -2.466902e-01\n",
       "25%     -2.307865e-01\n",
       "50%     -1.999523e-01\n",
       "75%     -1.022207e-01\n",
       "max      3.982890e+01\n",
       "Name: views, dtype: float64"
      ]
     },
     "execution_count": 15,
     "metadata": {},
     "output_type": "execute_result"
    }
   ],
   "source": [
    "y_norm=(y-y.mean())/y.std()\n",
    "y_norm.describe()\n"
   ]
  },
  {
   "cell_type": "code",
   "execution_count": 16,
   "metadata": {},
   "outputs": [
    {
     "data": {
      "text/plain": [
       "count    26089.000000\n",
       "mean        -1.260965\n",
       "std          1.688200\n",
       "min         -9.854084\n",
       "25%         -2.330065\n",
       "50%         -1.192227\n",
       "75%         -0.086599\n",
       "max          3.684593\n",
       "Name: views, dtype: float64"
      ]
     },
     "execution_count": 16,
     "metadata": {},
     "output_type": "execute_result"
    }
   ],
   "source": [
    "def log_transform(x):\n",
    "    x_float = float(x)\n",
    "    return np.log(x_float)\n",
    "y_new = y_norm.apply(log_transform)\n",
    "y_new.describe()"
   ]
  },
  {
   "cell_type": "code",
   "execution_count": 17,
   "metadata": {},
   "outputs": [],
   "source": [
    "#trending date\n",
    "full_data['trending_date_new'] = pd.to_datetime(full_data.trending_date, format = \"%y.%d.%m\")"
   ]
  },
  {
   "cell_type": "code",
   "execution_count": 18,
   "metadata": {},
   "outputs": [
    {
     "data": {
      "text/plain": [
       "Index(['video_id', 'trending_date', 'title', 'channel_title', 'category_id',\n",
       "       'publish_time', 'tags', 'views', 'likes', 'dislikes', 'comment_count',\n",
       "       'thumbnail_link', 'comments_disabled', 'ratings_disabled',\n",
       "       'video_error_or_removed', 'description', 'region', 'trending_date_new'],\n",
       "      dtype='object')"
      ]
     },
     "execution_count": 18,
     "metadata": {},
     "output_type": "execute_result"
    }
   ],
   "source": [
    "full_data.columns"
   ]
  },
  {
   "cell_type": "code",
   "execution_count": 19,
   "metadata": {},
   "outputs": [],
   "source": [
    "X_raw = full_data.loc[:,['title', 'channel_title', 'category_id',\n",
    "       'publish_time', 'tags', 'description', 'region']]"
   ]
  },
  {
   "cell_type": "code",
   "execution_count": 20,
   "metadata": {},
   "outputs": [
    {
     "name": "stderr",
     "output_type": "stream",
     "text": [
      ".vector_cache/wiki.en.vec: 6.60GB [06:12, 17.7MB/s]                               \n",
      "  0%|          | 0/2519370 [00:00<?, ?it/s]Skipping token b'2519370' with 1-dimensional vector [b'300']; likely a header\n",
      "100%|█████████▉| 2519275/2519370 [07:58<00:00, 5994.45it/s]"
     ]
    }
   ],
   "source": [
    "import torchtext\n",
    "from torchtext.vocab import FastText\n",
    "FTmodel = FastText()"
   ]
  },
  {
   "cell_type": "code",
   "execution_count": 21,
   "metadata": {},
   "outputs": [],
   "source": [
    "def parseCat(l):\n",
    "    ll=str(l).lower().split()\n",
    "    result = []\n",
    "    for s in ll:\n",
    "        result.append(s)\n",
    "    return result\n",
    "def parse_new(l):\n",
    "    ll=str(l).lower().split('|')\n",
    "    result = []\n",
    "    for s in ll:\n",
    "        result.append(s)\n",
    "    return result"
   ]
  },
  {
   "cell_type": "code",
   "execution_count": 22,
   "metadata": {},
   "outputs": [
    {
     "data": {
      "text/html": [
       "<div>\n",
       "<style scoped>\n",
       "    .dataframe tbody tr th:only-of-type {\n",
       "        vertical-align: middle;\n",
       "    }\n",
       "\n",
       "    .dataframe tbody tr th {\n",
       "        vertical-align: top;\n",
       "    }\n",
       "\n",
       "    .dataframe thead th {\n",
       "        text-align: right;\n",
       "    }\n",
       "</style>\n",
       "<table border=\"1\" class=\"dataframe\">\n",
       "  <thead>\n",
       "    <tr style=\"text-align: right;\">\n",
       "      <th></th>\n",
       "      <th>title</th>\n",
       "      <th>channel_title</th>\n",
       "      <th>category_id</th>\n",
       "      <th>publish_time</th>\n",
       "      <th>tags</th>\n",
       "      <th>description</th>\n",
       "      <th>region</th>\n",
       "    </tr>\n",
       "  </thead>\n",
       "  <tbody>\n",
       "    <tr>\n",
       "      <th>0</th>\n",
       "      <td>[eminem, -, walk, on, water, (audio), ft., bey...</td>\n",
       "      <td>[eminemvevo]</td>\n",
       "      <td>10</td>\n",
       "      <td>2017-11-10T17:00:03.000Z</td>\n",
       "      <td>[eminem, \"walk\", \"on\", \"water\", \"aftermath/sha...</td>\n",
       "      <td>[eminem's, new, track, walk, on, water, ft., b...</td>\n",
       "      <td>CA</td>\n",
       "    </tr>\n",
       "    <tr>\n",
       "      <th>1</th>\n",
       "      <td>[plush, -, bad, unboxing, fan, mail]</td>\n",
       "      <td>[idubbbztv]</td>\n",
       "      <td>23</td>\n",
       "      <td>2017-11-13T17:00:00.000Z</td>\n",
       "      <td>[plush, \"bad unboxing\", \"unboxing\", \"fan mail\"...</td>\n",
       "      <td>[still, got, a, lot, of, packages., probably, ...</td>\n",
       "      <td>CA</td>\n",
       "    </tr>\n",
       "    <tr>\n",
       "      <th>2</th>\n",
       "      <td>[racist, superman, |, rudy, mancuso,, king, ba...</td>\n",
       "      <td>[rudy, mancuso]</td>\n",
       "      <td>23</td>\n",
       "      <td>2017-11-12T19:05:24.000Z</td>\n",
       "      <td>[racist superman, \"rudy\", \"mancuso\", \"king\", \"...</td>\n",
       "      <td>[watch, my, previous, video, ▶, \\n\\nsubscribe,...</td>\n",
       "      <td>CA</td>\n",
       "    </tr>\n",
       "    <tr>\n",
       "      <th>3</th>\n",
       "      <td>[i, dare, you:, going, bald!?]</td>\n",
       "      <td>[nigahiga]</td>\n",
       "      <td>24</td>\n",
       "      <td>2017-11-12T18:01:41.000Z</td>\n",
       "      <td>[ryan, \"higa\", \"higatv\", \"nigahiga\", \"i dare y...</td>\n",
       "      <td>[i, know, it's, been, a, while, since, we, did...</td>\n",
       "      <td>CA</td>\n",
       "    </tr>\n",
       "    <tr>\n",
       "      <th>4</th>\n",
       "      <td>[ed, sheeran, -, perfect, (official, music, vi...</td>\n",
       "      <td>[ed, sheeran]</td>\n",
       "      <td>10</td>\n",
       "      <td>2017-11-09T11:04:14.000Z</td>\n",
       "      <td>[edsheeran, \"ed sheeran\", \"acoustic\", \"live\", ...</td>\n",
       "      <td>[🎧:, https://ad.gt/yt-perfect\\n💰:, https://atl...</td>\n",
       "      <td>CA</td>\n",
       "    </tr>\n",
       "  </tbody>\n",
       "</table>\n",
       "</div>"
      ],
      "text/plain": [
       "                                               title    channel_title  \\\n",
       "0  [eminem, -, walk, on, water, (audio), ft., bey...     [eminemvevo]   \n",
       "1               [plush, -, bad, unboxing, fan, mail]      [idubbbztv]   \n",
       "2  [racist, superman, |, rudy, mancuso,, king, ba...  [rudy, mancuso]   \n",
       "3                     [i, dare, you:, going, bald!?]       [nigahiga]   \n",
       "4  [ed, sheeran, -, perfect, (official, music, vi...    [ed, sheeran]   \n",
       "\n",
       "   category_id              publish_time  \\\n",
       "0           10  2017-11-10T17:00:03.000Z   \n",
       "1           23  2017-11-13T17:00:00.000Z   \n",
       "2           23  2017-11-12T19:05:24.000Z   \n",
       "3           24  2017-11-12T18:01:41.000Z   \n",
       "4           10  2017-11-09T11:04:14.000Z   \n",
       "\n",
       "                                                tags  \\\n",
       "0  [eminem, \"walk\", \"on\", \"water\", \"aftermath/sha...   \n",
       "1  [plush, \"bad unboxing\", \"unboxing\", \"fan mail\"...   \n",
       "2  [racist superman, \"rudy\", \"mancuso\", \"king\", \"...   \n",
       "3  [ryan, \"higa\", \"higatv\", \"nigahiga\", \"i dare y...   \n",
       "4  [edsheeran, \"ed sheeran\", \"acoustic\", \"live\", ...   \n",
       "\n",
       "                                         description region  \n",
       "0  [eminem's, new, track, walk, on, water, ft., b...     CA  \n",
       "1  [still, got, a, lot, of, packages., probably, ...     CA  \n",
       "2  [watch, my, previous, video, ▶, \\n\\nsubscribe,...     CA  \n",
       "3  [i, know, it's, been, a, while, since, we, did...     CA  \n",
       "4  [🎧:, https://ad.gt/yt-perfect\\n💰:, https://atl...     CA  "
      ]
     },
     "execution_count": 22,
     "metadata": {},
     "output_type": "execute_result"
    }
   ],
   "source": [
    "X_raw['title'] = X_raw['title'].apply(parseCat)\n",
    "X_raw['channel_title'] = X_raw['channel_title'].apply(parseCat)\n",
    "X_raw['tags'] = X_raw['tags'].apply(parse_new)\n",
    "X_raw['description'] = X_raw['description'].apply(parseCat)\n",
    "X_raw.head()"
   ]
  },
  {
   "cell_type": "code",
   "execution_count": 23,
   "metadata": {},
   "outputs": [],
   "source": [
    "def embed(lst):\n",
    "    \n",
    "    emb_cat = []\n",
    "    for j in range(0, len(lst)):\n",
    "        cats = lst[j]\n",
    "        n = len(cats)\n",
    "        \n",
    "        vec = FTmodel[str(cats[0]).lower()]\n",
    "        if n > 1:\n",
    "            for i in range(1, n):\n",
    "                new_vec = FTmodel[str(cats[i]).lower()]\n",
    "                vec = np.vstack((vec, new_vec))\n",
    "            vec = vec.mean(axis = 0, keepdims = True)\n",
    "        emb_cat.append(vec)\n",
    "    return emb_cat\n"
   ]
  },
  {
   "cell_type": "code",
   "execution_count": null,
   "metadata": {},
   "outputs": [],
   "source": [
    "title= embed(list(X_raw['title']))\n",
    "channel_title = embed(list(X_raw['channel_title']))\n",
    "tags = embed(list(X_raw['tags']))\n",
    "description = embed(list(X_raw['description']))"
   ]
  },
  {
   "cell_type": "code",
   "execution_count": null,
   "metadata": {},
   "outputs": [],
   "source": [
    "X = pd.concat([pd.DataFrame(title), pd.DataFrame(title), pd.DataFrame(title), pd.DataFrame(title), X_raw.category_id, X_raw.publish_time, X_raw.region])"
   ]
  },
  {
   "cell_type": "code",
   "execution_count": null,
   "metadata": {},
   "outputs": [],
   "source": [
    "X_wtrain, X_wtest, y_wtrain, y_wtest = train_test_split(X, y_new, test_size = 0.05, random_state = 999)"
   ]
  },
  {
   "cell_type": "code",
   "execution_count": null,
   "metadata": {},
   "outputs": [],
   "source": [
    "n_tree = [300, 600, 900]\n",
    "max_depth = [50, 150, 300]\n",
    "grid_param = {'n_estimators': n_tree, 'max_depth': max_depth}\n",
    "model_w1 = RandomForestRegressor()\n",
    "grid_model_w1 = GridSearchCV(estimator = model_w1, param_grid = grid_param, cv = 4, verbose = 2)\n",
    "grid_model_w1.fit(X_wtrain, y_wtrain)"
   ]
  },
  {
   "cell_type": "code",
   "execution_count": null,
   "metadata": {},
   "outputs": [],
   "source": [
    "grid_model_w1.best_params_\n",
    "best_model_w1 = grid_model_w1.best_estimator_"
   ]
  },
  {
   "cell_type": "code",
   "execution_count": null,
   "metadata": {},
   "outputs": [],
   "source": [
    "pred_w1 = best_model_w1.predict(X_wtest)\n",
    "rms_w1 = mean_squared_error(y_wtest, pred_w1)\n",
    "print(rms_w1)"
   ]
  },
  {
   "cell_type": "code",
   "execution_count": null,
   "metadata": {},
   "outputs": [],
   "source": []
  }
 ],
 "metadata": {
  "kernelspec": {
   "display_name": "Python 3",
   "language": "python",
   "name": "python3"
  },
  "language_info": {
   "codemirror_mode": {
    "name": "ipython",
    "version": 3
   },
   "file_extension": ".py",
   "mimetype": "text/x-python",
   "name": "python",
   "nbconvert_exporter": "python",
   "pygments_lexer": "ipython3",
   "version": "3.7.4"
  }
 },
 "nbformat": 4,
 "nbformat_minor": 2
}
