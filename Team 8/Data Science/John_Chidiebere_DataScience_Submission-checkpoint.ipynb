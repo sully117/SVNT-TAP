{
 "cells": [
  {
   "cell_type": "markdown",
   "metadata": {},
   "source": [
    "# Data Science Submisson \n",
    "###### Chidiebere Prince John"
   ]
  },
  {
   "cell_type": "markdown",
   "metadata": {},
   "source": [
    "## Introduction\n",
    "\n",
    "This project is my submission for the Silicon Valley Next Talent Program by SAP. The project is divided into several steps and they include;\n",
    "\n",
    "- Setting up the Environment\n",
    "- Install Packages\n",
    "- Understanding the Problem Statement\n",
    "- Collecting the Data\n",
    "- Exploratory Data Analysis\n",
    "- Modelling\n",
    "- Model Evaluation\n",
    "\n",
    "Let's begin with setting up the environment. "
   ]
  },
  {
   "cell_type": "markdown",
   "metadata": {},
   "source": [
    "## Setting up the Environment\n",
    "For this project, we will use the R Programming Language for Jupyter Notebooks. Here is a [link](https://docs.anaconda.com/anaconda/navigator/tutorials/r-lang/)  to setup your R Kernel for Jupyter Notebooks. "
   ]
  },
  {
   "cell_type": "markdown",
   "metadata": {},
   "source": [
    "## Installing the Packages\n",
    "\n",
    "All the packages used will be from the R Programming Language. The following code installs and activates all the pakages used for this project."
   ]
  },
  {
   "cell_type": "code",
   "execution_count": 46,
   "metadata": {},
   "outputs": [
    {
     "name": "stderr",
     "output_type": "stream",
     "text": [
      "Installing package into 'C:/Users/Chidi Prince John/R/win-library/3.5'\n",
      "(as 'lib' is unspecified)\n",
      "Warning message:\n",
      "\"package 'tidyverse' is in use and will not be installed\"Installing package into 'C:/Users/Chidi Prince John/R/win-library/3.5'\n",
      "(as 'lib' is unspecified)\n",
      "Warning message:\n",
      "\"package 'caTools' is in use and will not be installed\"Installing package into 'C:/Users/Chidi Prince John/R/win-library/3.5'\n",
      "(as 'lib' is unspecified)\n"
     ]
    },
    {
     "name": "stdout",
     "output_type": "stream",
     "text": [
      "package 'e1071' successfully unpacked and MD5 sums checked\n",
      "\n",
      "The downloaded binary packages are in\n",
      "\tC:\\Users\\Chidi Prince John\\AppData\\Local\\Temp\\RtmpawbktY\\downloaded_packages\n"
     ]
    },
    {
     "name": "stderr",
     "output_type": "stream",
     "text": [
      "Warning message:\n",
      "\"package 'e1071' was built under R version 3.5.3\""
     ]
    }
   ],
   "source": [
    "#Installs package\n",
    "install.packages('tidyverse')\n",
    "#Activates the package\n",
    "library(tidyverse)\n",
    "#Installs package\n",
    "install.packages('caTools')\n",
    "#Activates the package\n",
    "library(caTools)\n",
    "#Installs package\n",
    "install.packages('e1071')\n",
    "#Activates the package\n",
    "library(e1071)\n"
   ]
  },
  {
   "cell_type": "markdown",
   "metadata": {},
   "source": [
    "## Understanding the Problem Statement \n",
    "The problem statement is to develop a predictive algorithm that determines how popular a YouTube video will be. We have several metrics to determine popularity in this case, but we will choose one metric - views.\n"
   ]
  },
  {
   "cell_type": "markdown",
   "metadata": {},
   "source": [
    "## Collecting the Data\n",
    "\n",
    "The data has been downloaded for 10 different countries but we will need to aggregate it to generate a single document for our algorithm. But first, we will need to divide each of the data using stratifed random sampling so that we can get enough data for all the different locations. "
   ]
  },
  {
   "cell_type": "code",
   "execution_count": 6,
   "metadata": {},
   "outputs": [],
   "source": [
    "#Import all the dataset\n",
    "france_video  <- read.csv('FRvideos.csv')\n",
    "britain_video  <- read.csv('GBvideos.csv')\n",
    "germany_video  <- read.csv('DEvideos.csv')\n",
    "india_video  <- read.csv('INvideos.csv')\n",
    "japan_video  <- read.csv('JPvideos.csv')\n",
    "korea_video  <- read.csv('KRvideos.csv')\n",
    "mexico_video  <- read.csv('MXvideos.csv')\n",
    "russia_video  <- read.csv('RUvideos.csv')\n",
    "usa_video  <- read.csv('USvideos.csv')\n",
    "canada_video  <- read.csv('CAvideos.csv')"
   ]
  },
  {
   "cell_type": "markdown",
   "metadata": {},
   "source": [
    "We can view one of the dataset to see how it looks like."
   ]
  },
  {
   "cell_type": "code",
   "execution_count": 9,
   "metadata": {},
   "outputs": [
    {
     "data": {
      "text/html": [
       "16"
      ],
      "text/latex": [
       "16"
      ],
      "text/markdown": [
       "16"
      ],
      "text/plain": [
       "[1] 16"
      ]
     },
     "metadata": {},
     "output_type": "display_data"
    },
    {
     "data": {
      "text/html": [
       "40724"
      ],
      "text/latex": [
       "40724"
      ],
      "text/markdown": [
       "40724"
      ],
      "text/plain": [
       "[1] 40724"
      ]
     },
     "metadata": {},
     "output_type": "display_data"
    },
    {
     "data": {
      "text/html": [
       "<table>\n",
       "<caption>A data.frame: 6 × 16</caption>\n",
       "<thead>\n",
       "\t<tr><th scope=col>video_id</th><th scope=col>trending_date</th><th scope=col>title</th><th scope=col>channel_title</th><th scope=col>category_id</th><th scope=col>publish_time</th><th scope=col>tags</th><th scope=col>views</th><th scope=col>likes</th><th scope=col>dislikes</th><th scope=col>comment_count</th><th scope=col>thumbnail_link</th><th scope=col>comments_disabled</th><th scope=col>ratings_disabled</th><th scope=col>video_error_or_removed</th><th scope=col>description</th></tr>\n",
       "\t<tr><th scope=col>&lt;fct&gt;</th><th scope=col>&lt;fct&gt;</th><th scope=col>&lt;fct&gt;</th><th scope=col>&lt;fct&gt;</th><th scope=col>&lt;int&gt;</th><th scope=col>&lt;fct&gt;</th><th scope=col>&lt;fct&gt;</th><th scope=col>&lt;int&gt;</th><th scope=col>&lt;int&gt;</th><th scope=col>&lt;int&gt;</th><th scope=col>&lt;int&gt;</th><th scope=col>&lt;fct&gt;</th><th scope=col>&lt;fct&gt;</th><th scope=col>&lt;fct&gt;</th><th scope=col>&lt;fct&gt;</th><th scope=col>&lt;fct&gt;</th></tr>\n",
       "</thead>\n",
       "<tbody>\n",
       "\t<tr><td>Ro6eob0LrCY</td><td>17.14.11</td><td>Malika LePen : Femme de Gauche - Trailer                                                            </td><td>Le Raptor Dissident   </td><td>24</td><td>2017-11-13T17:32:55.000Z</td><td>Raptor\"|\"Dissident\"|\"Expliquez\"|\"moi\"|\"cette\"|\"merde                                                                                                                                                                                                                                                                                          </td><td>212702</td><td>29282</td><td>1108</td><td>3817</td><td>https://i.ytimg.com/vi/Ro6eob0LrCY/default.jpg</td><td>False</td><td>False</td><td>False</td><td>Dimanche.\\n18h30.\\nSoyez prÃ©sents pour la vidÃ©o la plus rÃ©alistiquement haineuse du YouTube Game.\\n\\nStrike sous 24h garanti.\\n\\nMontage de NastyTanooki : https://www.youtube.com/channel/UCJvYnKvJZSIz-2deI7Xppww\\n\\n------------------------------------------------------------------------------------------------\\n\\nRAPTORCOACHING PRO : raptorcoachingpro@gmail.com\\n\\nSi tu pratiques la musculation et que tu es intÃ©ressÃ©(e) par un Programme/DiÃ¨te PersonnalisÃ©s + Suivi, envoie nous un mail avec ton Nom/Ã‚ge/Objectif et le coach s'occupera de toi. Le training sera rÃ©alisÃ© en fonction des objectifs aussi bien muscu prise de muscle/sÃ¨che que prÃ©pa sportive/concours.\\n\\nPROZIS : -10% sur tout le site http://prozis.com/lb5 avec le coupon COACHINGPRO10\\n\\n------------------------------------------------------------------------------------------------\\n\\nRejoins la dissidence jurassique sur les rÃ©seaux sociaux :\\n\\nFACEBOOK : https://www.facebook.com/LeRaptorDissident\\n\\nTWITTER : https://twitter.com/RaptorDissident\\n\\nSNAPCHAT : raptorvswild\\n\\nINSTAGRAM : raptorvsfonte\\n\\nTIPEE D'OR : https://www.tipeee.com/le-raptor-dissident\\n\\n------------------------------------------------------------------------------------------------\\n\\nSources :\\n\\nMusique : https://www.youtube.com/watch?v=7vn5BD0oadM\\n\\nMa BanniÃ¨re et mon Avatar YouTube : LeDessinator https://www.youtube.com/channel/UCXLIl-l_zi1lCVrJHLJqJew                                                                                                                                                                                                                                                                                                                                                                                                                                                                      </td></tr>\n",
       "\t<tr><td>Yo84eqYwP98</td><td>17.14.11</td><td>LA PIRE PARTIE ft Le Rire Jaune, Pierre Croce, Fabien Olicard, Nad Rich' Hard, Max Bird, Studio Vrac</td><td>Le Labo               </td><td>24</td><td>2017-11-12T15:00:02.000Z</td><td>[none]                                                                                                                                                                                                                                                                                                                                        </td><td>432721</td><td>14053</td><td> 576</td><td>1161</td><td>https://i.ytimg.com/vi/Yo84eqYwP98/default.jpg</td><td>False</td><td>False</td><td>False</td><td>Le jeu de sociÃ©tÃ©: https://goo.gl/hhG1Ta\\n\\nGagner le jeu signÃ© par tous les joueurs: \\n\\nChaÃ®ne de Studio Vrac: https://goo.gl/HVPoJs\\nChaÃ®ne du Rire Jaune: https://goo.gl/JqUGNj\\nChaÃ®ne de Fabien Olicard: https://goo.gl/uc6zii\\nChaÃ®ne de Nad Rich' Hard: https://goo.gl/hiy2mw\\nChaÃ®ne de Pierre Croce: https://goo.gl/PVijXG\\nChaÃ®ne de Max Bird: https://goo.gl/A9Zc1r\\nChaÃ®ne des astuces de Margaux: https://goo.gl/Pz9L1v\\n\\n\\n------------------\\n\\nSi tu m'envoies un colis ou une lettre, n'oublie pas d'y laisser ton adresse pour t'ajouter Ã  la carte des abonnÃ©s !\\n\\nLa carte des abonnÃ©s: https://goo.gl/438YIX\\n\\n\\nMa liste de recherches de cartes Battle Tube : https://goo.gl/zG6Npz\\nMa liste de recherches de cartes Yu-Gi-Oh : https://goo.gl/40bUBO\\nMa liste de recherches de jeux GameCube : https://goo.gl/cMEAM7\\n\\n------------------\\n\\nTu veux m'envoyer un colis ?\\nC'est ici:\\n\\nDoc Seven\\nUne piÃ¨ce en plus\\n119 Avenue Paul Vaillant Couturier\\n94250 Gentilly\\n\\n------------------\\n\\nTu veux m'envoyer une lettre ?\\nC'est ici:\\n\\nDoc Seven\\n8, rue du Fg PoissonniÃ¨re\\n75010 Paris\\n\\n------------------\\n\\nSi vous venez de ma chaÃ®ne principale, vous me connaissez, sinon allez faire un tour sur ma chaÃ®ne principale: \\nhttps://www.youtube.com/channel/UC5Twj1Axp_-9HLsZ5o_cEQQ\\n\\nN'oubliez pas de vous abonner et n'hÃ©sitez pas Ã  me suivre sur les rÃ©seaux sociaux!\\n\\nFacebook: https://www.facebook.com/DocSevenTV\\nTwitter: https://twitter.com/DocSevenTV\\nInstagram: https://www.instagram.com/docseventv/\\n\\n------------------\\n\\nCrÃ©dit(s) musique:\\nArtistes rÃ©currents:\\n- KronoMuzik : https://www.youtube.com/channel/UC5C9...\\n\\n- Anthox : https://www.youtube.com/user/wildesyde\\n\\n- Efisio Cross : https://www.youtube.com/user/EfisioSymphony\\n\\nGraphisme de la chaÃ®ne:\\nBoidin: https://www.youtube.com/user/battlefrite</td></tr>\n",
       "\t<tr><td>ceqntSXE-10</td><td>17.14.11</td><td>DESSINS ANIMEÌS FRANCÌ§AIS VS RUSSES 2 - Daniil le Russe                                           </td><td>Daniil le Russe       </td><td>23</td><td>2017-11-13T17:00:38.000Z</td><td>cartoon\"|\"pokÃ©mon\"|\"Ã©cole\"|\"ours\"|\"Ð¼ÑƒÐ»ÑŒÑ‚Ñ„Ð¸Ð»ÑŒÐ¼                                                                                                                                                                                                                                                                                     </td><td>482153</td><td>76203</td><td> 477</td><td>9580</td><td>https://i.ytimg.com/vi/ceqntSXE-10/default.jpg</td><td>False</td><td>False</td><td>False</td><td>Une nouvelle dose de dessins animÃ©s franÃ§ais et russes ! \\nLikes et dites moi quel est votre dessin animÃ© prÃ©fÃ©rÃ© en com !\\n\\nDessins animÃ©s russes : Ilia Mouromets (Ð˜Ð»ÑŒÑ ÐœÑƒÑ€Ð¾Ð¼ÐµÑ†) \\nPokÃ©mon\\nPeppa Pig\\nTcheburachka (Ð§ÐµÐ±ÑƒÑ€Ð°ÑˆÐºÐ°)\\nWinnie Pooh (Ð’Ð¸Ð½Ð½Ð¸ ÐŸÑƒÑ…) \\nFunky Cops\\nLe policier Russe : ÐšÐ°Ð¿Ð¸Ñ‚Ð°Ð½ ÐŸÑ€Ð¾Ð½Ð¸Ð½\\nInspecteur Gadget\\nKarlson (ÐšÐ°Ñ€Ð»ÑÐ¾Ð½)                                                                                                                                                                                                                                                                                                                                                                                                                                                                                                                                                                                                                                                                                                                                                                                                                                                                                                                                                                                                                                                                                                                                                                                                                                                                                                                                                                                                                                                                                                                                                                       </td></tr>\n",
       "\t<tr><td>WuTFI5qftCE</td><td>17.14.11</td><td>PAPY GRENIER - METAL GEAR SOLID                                                                     </td><td>Joueur Du Grenier     </td><td>20</td><td>2017-11-12T17:00:02.000Z</td><td>Papy grenier\"|\"Metal Gear Solid\"|\"PS1\"|\"Tirage d'oreille\"|\"Humour\"|\"retro Gaming\"|\"Joueur du Grenier\"|\"JDG                                                                                                                                                                                                                                    </td><td>925222</td><td>85016</td><td> 550</td><td>4303</td><td>https://i.ytimg.com/vi/WuTFI5qftCE/default.jpg</td><td>False</td><td>False</td><td>False</td><td>Nouvel ,Ã©pisode de Papy Grenier ! Ce mois-ci on part du cotÃ© de METAL GEAR SOLID ! N'hÃ©sitez pas Ã  partager si vous avez aimÃ©, ca nous aide ^^ Bisous et rdv dans 1 mois !                                                                                                                                                                                                                                                                                                                                                                                                                                                                                                                                                                                                                                                                                                                                                                                                                                                                                                                                                                                                                                                                                                                                                                                                                                                                                                                                                                                                                                                                                                                                                                                                                                                                                                                                                                                                             </td></tr>\n",
       "\t<tr><td>ee6OFs8TdEg</td><td>17.14.11</td><td>QUI SAUTERA LE PLUS HAUT ? (VÃ‰LO SKATE ROLLER TROTTINETTE)                                         </td><td>Aurelien Fontenoy     </td><td>17</td><td>2017-11-13T16:30:03.000Z</td><td>vÃ©lo\"|\"vtt\"|\"bmx\"|\"freestyle\"|\"bike\"|\"mtb\"|\"dirt\"|\"trottinette\"|\"scoot\"|\"scooter\"|\"skate\"|\"roller\"|\"trampoline\"|\"trampoline parc\"|\"trampoline park\"|\"big air\"|\"air bag\"|\"mousse\"|\"bac Ã  mousse\"|\"saut\"|\"tricks\"|\"dÃ©fi\"|\"challenge\"|\"saut en hauteur                                                                                        </td><td>141695</td><td> 8091</td><td>  72</td><td> 481</td><td>https://i.ytimg.com/vi/ee6OFs8TdEg/default.jpg</td><td>False</td><td>False</td><td>False</td><td>Sauts Ã  plus de 4 mÃ¨tres de haut dans un trampoline park / air bag. Qui sautera le plus haut entre un Vtt, un skate, un roller ou une trottinette ?  Qui jouera le mieux au basket ? ou qui ferra les plus belles figures en touchant un drone ?\\n-------------------------------------------------------------\\nAbonne-toi Ã  ma chaine pour plus de dÃ©fis avec mon vÃ©lo : http://urlz.fr/5v1l\\nFacebook: http://urlz.fr/51gN\\nInstagram: http://urlz.fr/51gO\\nTwitter: http://urlz.fr/5LQN\\nSnap: Aurelfontenoy\\nWeb: www.bombershow.com (Mes dÃ©monstrations VTT Trial / Freestyle)\\n-----------------------------------\\nBONS PLANS:\\n-10 % sur tout le matos, vÃ©los trial ... chez www.SeriousConnection.com -- CODE: SERIOUSAUREL\\n-10% sur tous les complÃ©ments Alimentaires chez www.impactnutritionshop.com -- CODE: AUREL_HVD\\n------------------------------------\\nBAM FREESPORTS (Trampoline Park Ã  Grenoble)\\n Site Internet: www.bam-freesports.com\\nFacebook:  http://urlz.fr/5tQD\\n------------------------------\\nLes AthlÃ¨tes :\\n*Franck Paulin (VTT Freestyle)\\nYoutube: http://urlz.fr/5T8a\\nInstagram: http://urlz.fr/5tQB\\n*Maxime Cadoux (Skate / Wakeboard)\\nInstagram: http://urlz.fr/66Wk\\nYoutube: http://urlz.fr/66VS\\n*Nico Dao (Roller)\\nInstagram: http://urlz.fr/67nu\\n-----------------------------------\\nCamÃ©raman: Art'Home production (http://urlz.fr/5ce5)\\nEdit : BOMBER SHOW - www.bombershow.com                                                                                                                                                                                                                                                                                                                                                                                                                                                                                                             </td></tr>\n",
       "\t<tr><td>teXaL6GdQRk</td><td>17.14.11</td><td>STRANGER JOKES : Jokes de Papa avec les teens de Stranger Things                                    </td><td>Le Jeu, C'est SÃ©rieux</td><td>23</td><td>2017-11-13T15:48:57.000Z</td><td>Stranger Jokes\"|\"Jokes de Papa\"|\"Stranger Things\"|\"Charlie Heaton\"|\"Natalia Dyer\"|\"Joe Keery\"|\"DrÃ´le\"|\"Humour\"|\"Blagues nulles\"|\"Dad Jokes\"|\"Netflix\"|\"Demogorgon\"|\"Onze\"|\"Eleven\"|\"Will\"|\"Joyce\"|\"Jonathan\"|\"Nancy\"|\"Steve\"|\"Paris Games Week\"|\"Try Not To Laugh\"|\"Try Not To Cringe\"|\"Essaye de ne pas rire\"|\"JeuSerieux\"|\"France\"|\"QuÃ©bec</td><td>141253</td><td>14354</td><td> 202</td><td> 417</td><td>https://i.ytimg.com/vi/teXaL6GdQRk/default.jpg</td><td>False</td><td>False</td><td>False</td><td>Contenu commanditÃ© par Netflix France.\\nInspirÃ© de Dads Jokes (All Def Digital) et Jokes de Papa (GaboomFilms).\\n\\nChose Ã©trange pour Guiz et Laurent d'affronter les teens de Stranger Things â€“ Charlie Heaton, Natalia Dyer et Joe Keery â€“ dans un Jokes de Papa en marge de la Paris Games Week. Quelle Ã©quipe craquera sous la pression face Ã  des blagues aussi nulles?\\n\\nSaison 2 de Stranger Things :\\nâ–¶ https://youtube.com/watch?v=JSQToYeeR4E\\n\\nDad Jokes de All Def Digital :\\nâ–¶ https://youtube.com/AllDefDigital\\n\\nJokes de Papa de GaboomFilms :\\nâ–¶ https://youtube.com/playlist?list=PLKVHXumEUNS53qA3_GkAlR9eMsHkMfsek\\n\\nNOTRE BOUTIQUE : http://society6.com/jeuserieux\\nFACEBOOK : http://facebook.com/jeuserieux\\nABONNEZ-VOUS : http://bit.ly/jeuserieux                                                                                                                                                                                                                                                                                                                                                                                                                                                                                                                                                                                                                                                                                                                                                                                                                                                                                                                                                                                                                                                                                                                                                                             </td></tr>\n",
       "</tbody>\n",
       "</table>\n"
      ],
      "text/latex": [
       "A data.frame: 6 × 16\n",
       "\\begin{tabular}{r|llllllllllllllll}\n",
       " video\\_id & trending\\_date & title & channel\\_title & category\\_id & publish\\_time & tags & views & likes & dislikes & comment\\_count & thumbnail\\_link & comments\\_disabled & ratings\\_disabled & video\\_error\\_or\\_removed & description\\\\\n",
       " <fct> & <fct> & <fct> & <fct> & <int> & <fct> & <fct> & <int> & <int> & <int> & <int> & <fct> & <fct> & <fct> & <fct> & <fct>\\\\\n",
       "\\hline\n",
       "\t Ro6eob0LrCY & 17.14.11 & Malika LePen : Femme de Gauche - Trailer                                                             & Le Raptor Dissident    & 24 & 2017-11-13T17:32:55.000Z & Raptor\"\\textbar{}\"Dissident\"\\textbar{}\"Expliquez\"\\textbar{}\"moi\"\\textbar{}\"cette\"\\textbar{}\"merde                                                                                                                                                                                                                                                                                           & 212702 & 29282 & 1108 & 3817 & https://i.ytimg.com/vi/Ro6eob0LrCY/default.jpg & False & False & False & Dimanche.\\textbackslash{}n18h30.\\textbackslash{}nSoyez prÃ©sents pour la vidÃ©o la plus rÃ©alistiquement haineuse du YouTube Game.\\textbackslash{}n\\textbackslash{}nStrike sous 24h garanti.\\textbackslash{}n\\textbackslash{}nMontage de NastyTanooki : https://www.youtube.com/channel/UCJvYnKvJZSIz-2deI7Xppww\\textbackslash{}n\\textbackslash{}n------------------------------------------------------------------------------------------------\\textbackslash{}n\\textbackslash{}nRAPTORCOACHING PRO : raptorcoachingpro@gmail.com\\textbackslash{}n\\textbackslash{}nSi tu pratiques la musculation et que tu es intÃ©ressÃ©(e) par un Programme/DiÃ¨te PersonnalisÃ©s + Suivi, envoie nous un mail avec ton Nom/Ã‚ge/Objectif et le coach s'occupera de toi. Le training sera rÃ©alisÃ© en fonction des objectifs aussi bien muscu prise de muscle/sÃ¨che que prÃ©pa sportive/concours.\\textbackslash{}n\\textbackslash{}nPROZIS : -10\\% sur tout le site http://prozis.com/lb5 avec le coupon COACHINGPRO10\\textbackslash{}n\\textbackslash{}n------------------------------------------------------------------------------------------------\\textbackslash{}n\\textbackslash{}nRejoins la dissidence jurassique sur les rÃ©seaux sociaux :\\textbackslash{}n\\textbackslash{}nFACEBOOK : https://www.facebook.com/LeRaptorDissident\\textbackslash{}n\\textbackslash{}nTWITTER : https://twitter.com/RaptorDissident\\textbackslash{}n\\textbackslash{}nSNAPCHAT : raptorvswild\\textbackslash{}n\\textbackslash{}nINSTAGRAM : raptorvsfonte\\textbackslash{}n\\textbackslash{}nTIPEE D'OR : https://www.tipeee.com/le-raptor-dissident\\textbackslash{}n\\textbackslash{}n------------------------------------------------------------------------------------------------\\textbackslash{}n\\textbackslash{}nSources :\\textbackslash{}n\\textbackslash{}nMusique : https://www.youtube.com/watch?v=7vn5BD0oadM\\textbackslash{}n\\textbackslash{}nMa BanniÃ¨re et mon Avatar YouTube : LeDessinator https://www.youtube.com/channel/UCXLIl-l\\_zi1lCVrJHLJqJew                                                                                                                                                                                                                                                                                                                                                                                                                                                                      \\\\\n",
       "\t Yo84eqYwP98 & 17.14.11 & LA PIRE PARTIE ft Le Rire Jaune, Pierre Croce, Fabien Olicard, Nad Rich' Hard, Max Bird, Studio Vrac & Le Labo                & 24 & 2017-11-12T15:00:02.000Z & {[}none{]}                                                                                                                                                                                                                                                                                                                                         & 432721 & 14053 &  576 & 1161 & https://i.ytimg.com/vi/Yo84eqYwP98/default.jpg & False & False & False & Le jeu de sociÃ©tÃ©: https://goo.gl/hhG1Ta\\textbackslash{}n\\textbackslash{}nGagner le jeu signÃ© par tous les joueurs: \\textbackslash{}n\\textbackslash{}nChaÃ®ne de Studio Vrac: https://goo.gl/HVPoJs\\textbackslash{}nChaÃ®ne du Rire Jaune: https://goo.gl/JqUGNj\\textbackslash{}nChaÃ®ne de Fabien Olicard: https://goo.gl/uc6zii\\textbackslash{}nChaÃ®ne de Nad Rich' Hard: https://goo.gl/hiy2mw\\textbackslash{}nChaÃ®ne de Pierre Croce: https://goo.gl/PVijXG\\textbackslash{}nChaÃ®ne de Max Bird: https://goo.gl/A9Zc1r\\textbackslash{}nChaÃ®ne des astuces de Margaux: https://goo.gl/Pz9L1v\\textbackslash{}n\\textbackslash{}n\\textbackslash{}n------------------\\textbackslash{}n\\textbackslash{}nSi tu m'envoies un colis ou une lettre, n'oublie pas d'y laisser ton adresse pour t'ajouter Ã  la carte des abonnÃ©s !\\textbackslash{}n\\textbackslash{}nLa carte des abonnÃ©s: https://goo.gl/438YIX\\textbackslash{}n\\textbackslash{}n\\textbackslash{}nMa liste de recherches de cartes Battle Tube : https://goo.gl/zG6Npz\\textbackslash{}nMa liste de recherches de cartes Yu-Gi-Oh : https://goo.gl/40bUBO\\textbackslash{}nMa liste de recherches de jeux GameCube : https://goo.gl/cMEAM7\\textbackslash{}n\\textbackslash{}n------------------\\textbackslash{}n\\textbackslash{}nTu veux m'envoyer un colis ?\\textbackslash{}nC'est ici:\\textbackslash{}n\\textbackslash{}nDoc Seven\\textbackslash{}nUne piÃ¨ce en plus\\textbackslash{}n119 Avenue Paul Vaillant Couturier\\textbackslash{}n94250 Gentilly\\textbackslash{}n\\textbackslash{}n------------------\\textbackslash{}n\\textbackslash{}nTu veux m'envoyer une lettre ?\\textbackslash{}nC'est ici:\\textbackslash{}n\\textbackslash{}nDoc Seven\\textbackslash{}n8, rue du Fg PoissonniÃ¨re\\textbackslash{}n75010 Paris\\textbackslash{}n\\textbackslash{}n------------------\\textbackslash{}n\\textbackslash{}nSi vous venez de ma chaÃ®ne principale, vous me connaissez, sinon allez faire un tour sur ma chaÃ®ne principale: \\textbackslash{}nhttps://www.youtube.com/channel/UC5Twj1Axp\\_-9HLsZ5o\\_cEQQ\\textbackslash{}n\\textbackslash{}nN'oubliez pas de vous abonner et n'hÃ©sitez pas Ã  me suivre sur les rÃ©seaux sociaux!\\textbackslash{}n\\textbackslash{}nFacebook: https://www.facebook.com/DocSevenTV\\textbackslash{}nTwitter: https://twitter.com/DocSevenTV\\textbackslash{}nInstagram: https://www.instagram.com/docseventv/\\textbackslash{}n\\textbackslash{}n------------------\\textbackslash{}n\\textbackslash{}nCrÃ©dit(s) musique:\\textbackslash{}nArtistes rÃ©currents:\\textbackslash{}n- KronoMuzik : https://www.youtube.com/channel/UC5C9...\\textbackslash{}n\\textbackslash{}n- Anthox : https://www.youtube.com/user/wildesyde\\textbackslash{}n\\textbackslash{}n- Efisio Cross : https://www.youtube.com/user/EfisioSymphony\\textbackslash{}n\\textbackslash{}nGraphisme de la chaÃ®ne:\\textbackslash{}nBoidin: https://www.youtube.com/user/battlefrite\\\\\n",
       "\t ceqntSXE-10 & 17.14.11 & DESSINS ANIMEÌS FRANCÌ§AIS VS RUSSES 2 - Daniil le Russe                                            & Daniil le Russe        & 23 & 2017-11-13T17:00:38.000Z & cartoon\"\\textbar{}\"pokÃ©mon\"\\textbar{}\"Ã©cole\"\\textbar{}\"ours\"\\textbar{}\"Ð¼ÑƒÐ»ÑŒÑ‚Ñ„Ð¸Ð»ÑŒÐ¼                                                                                                                                                                                                                                                                                      & 482153 & 76203 &  477 & 9580 & https://i.ytimg.com/vi/ceqntSXE-10/default.jpg & False & False & False & Une nouvelle dose de dessins animÃ©s franÃ§ais et russes ! \\textbackslash{}nLikes et dites moi quel est votre dessin animÃ© prÃ©fÃ©rÃ© en com !\\textbackslash{}n\\textbackslash{}nDessins animÃ©s russes : Ilia Mouromets (Ð˜Ð»ÑŒÑ ÐœÑƒÑ€Ð¾Ð¼ÐµÑ†) \\textbackslash{}nPokÃ©mon\\textbackslash{}nPeppa Pig\\textbackslash{}nTcheburachka (Ð§ÐµÐ±ÑƒÑ€Ð°ÑˆÐºÐ°)\\textbackslash{}nWinnie Pooh (Ð’Ð¸Ð½Ð½Ð¸ ÐŸÑƒÑ…) \\textbackslash{}nFunky Cops\\textbackslash{}nLe policier Russe : ÐšÐ°Ð¿Ð¸Ñ‚Ð°Ð½ ÐŸÑ€Ð¾Ð½Ð¸Ð½\\textbackslash{}nInspecteur Gadget\\textbackslash{}nKarlson (ÐšÐ°Ñ€Ð»ÑÐ¾Ð½)                                                                                                                                                                                                                                                                                                                                                                                                                                                                                                                                                                                                                                                                                                                                                                                                                                                                                                                                                                                                                                                                                                                                                                                                                                                                                                                                                                                                                                                                                                                                                                       \\\\\n",
       "\t WuTFI5qftCE & 17.14.11 & PAPY GRENIER - METAL GEAR SOLID                                                                      & Joueur Du Grenier      & 20 & 2017-11-12T17:00:02.000Z & Papy grenier\"\\textbar{}\"Metal Gear Solid\"\\textbar{}\"PS1\"\\textbar{}\"Tirage d'oreille\"\\textbar{}\"Humour\"\\textbar{}\"retro Gaming\"\\textbar{}\"Joueur du Grenier\"\\textbar{}\"JDG                                                                                                                                                                                                                                     & 925222 & 85016 &  550 & 4303 & https://i.ytimg.com/vi/WuTFI5qftCE/default.jpg & False & False & False & Nouvel ,Ã©pisode de Papy Grenier ! Ce mois-ci on part du cotÃ© de METAL GEAR SOLID ! N'hÃ©sitez pas Ã  partager si vous avez aimÃ©, ca nous aide \\textasciicircum{}\\textasciicircum{} Bisous et rdv dans 1 mois !                                                                                                                                                                                                                                                                                                                                                                                                                                                                                                                                                                                                                                                                                                                                                                                                                                                                                                                                                                                                                                                                                                                                                                                                                                                                                                                                                                                                                                                                                                                                                                                                                                                                                                                                                                                                             \\\\\n",
       "\t ee6OFs8TdEg & 17.14.11 & QUI SAUTERA LE PLUS HAUT ? (VÃ‰LO SKATE ROLLER TROTTINETTE)                                          & Aurelien Fontenoy      & 17 & 2017-11-13T16:30:03.000Z & vÃ©lo\"\\textbar{}\"vtt\"\\textbar{}\"bmx\"\\textbar{}\"freestyle\"\\textbar{}\"bike\"\\textbar{}\"mtb\"\\textbar{}\"dirt\"\\textbar{}\"trottinette\"\\textbar{}\"scoot\"\\textbar{}\"scooter\"\\textbar{}\"skate\"\\textbar{}\"roller\"\\textbar{}\"trampoline\"\\textbar{}\"trampoline parc\"\\textbar{}\"trampoline park\"\\textbar{}\"big air\"\\textbar{}\"air bag\"\\textbar{}\"mousse\"\\textbar{}\"bac Ã  mousse\"\\textbar{}\"saut\"\\textbar{}\"tricks\"\\textbar{}\"dÃ©fi\"\\textbar{}\"challenge\"\\textbar{}\"saut en hauteur                                                                                         & 141695 &  8091 &   72 &  481 & https://i.ytimg.com/vi/ee6OFs8TdEg/default.jpg & False & False & False & Sauts Ã  plus de 4 mÃ¨tres de haut dans un trampoline park / air bag. Qui sautera le plus haut entre un Vtt, un skate, un roller ou une trottinette ?  Qui jouera le mieux au basket ? ou qui ferra les plus belles figures en touchant un drone ?\\textbackslash{}n-------------------------------------------------------------\\textbackslash{}nAbonne-toi Ã  ma chaine pour plus de dÃ©fis avec mon vÃ©lo : http://urlz.fr/5v1l\\textbackslash{}nFacebook: http://urlz.fr/51gN\\textbackslash{}nInstagram: http://urlz.fr/51gO\\textbackslash{}nTwitter: http://urlz.fr/5LQN\\textbackslash{}nSnap: Aurelfontenoy\\textbackslash{}nWeb: www.bombershow.com (Mes dÃ©monstrations VTT Trial / Freestyle)\\textbackslash{}n-----------------------------------\\textbackslash{}nBONS PLANS:\\textbackslash{}n-10 \\% sur tout le matos, vÃ©los trial ... chez www.SeriousConnection.com -- CODE: SERIOUSAUREL\\textbackslash{}n-10\\% sur tous les complÃ©ments Alimentaires chez www.impactnutritionshop.com -- CODE: AUREL\\_HVD\\textbackslash{}n------------------------------------\\textbackslash{}nBAM FREESPORTS (Trampoline Park Ã  Grenoble)\\textbackslash{}n Site Internet: www.bam-freesports.com\\textbackslash{}nFacebook:  http://urlz.fr/5tQD\\textbackslash{}n------------------------------\\textbackslash{}nLes AthlÃ¨tes :\\textbackslash{}n*Franck Paulin (VTT Freestyle)\\textbackslash{}nYoutube: http://urlz.fr/5T8a\\textbackslash{}nInstagram: http://urlz.fr/5tQB\\textbackslash{}n*Maxime Cadoux (Skate / Wakeboard)\\textbackslash{}nInstagram: http://urlz.fr/66Wk\\textbackslash{}nYoutube: http://urlz.fr/66VS\\textbackslash{}n*Nico Dao (Roller)\\textbackslash{}nInstagram: http://urlz.fr/67nu\\textbackslash{}n-----------------------------------\\textbackslash{}nCamÃ©raman: Art'Home production (http://urlz.fr/5ce5)\\textbackslash{}nEdit : BOMBER SHOW - www.bombershow.com                                                                                                                                                                                                                                                                                                                                                                                                                                                                                                             \\\\\n",
       "\t teXaL6GdQRk & 17.14.11 & STRANGER JOKES : Jokes de Papa avec les teens de Stranger Things                                     & Le Jeu, C'est SÃ©rieux & 23 & 2017-11-13T15:48:57.000Z & Stranger Jokes\"\\textbar{}\"Jokes de Papa\"\\textbar{}\"Stranger Things\"\\textbar{}\"Charlie Heaton\"\\textbar{}\"Natalia Dyer\"\\textbar{}\"Joe Keery\"\\textbar{}\"DrÃ´le\"\\textbar{}\"Humour\"\\textbar{}\"Blagues nulles\"\\textbar{}\"Dad Jokes\"\\textbar{}\"Netflix\"\\textbar{}\"Demogorgon\"\\textbar{}\"Onze\"\\textbar{}\"Eleven\"\\textbar{}\"Will\"\\textbar{}\"Joyce\"\\textbar{}\"Jonathan\"\\textbar{}\"Nancy\"\\textbar{}\"Steve\"\\textbar{}\"Paris Games Week\"\\textbar{}\"Try Not To Laugh\"\\textbar{}\"Try Not To Cringe\"\\textbar{}\"Essaye de ne pas rire\"\\textbar{}\"JeuSerieux\"\\textbar{}\"France\"\\textbar{}\"QuÃ©bec & 141253 & 14354 &  202 &  417 & https://i.ytimg.com/vi/teXaL6GdQRk/default.jpg & False & False & False & Contenu commanditÃ© par Netflix France.\\textbackslash{}nInspirÃ© de Dads Jokes (All Def Digital) et Jokes de Papa (GaboomFilms).\\textbackslash{}n\\textbackslash{}nChose Ã©trange pour Guiz et Laurent d'affronter les teens de Stranger Things â€“ Charlie Heaton, Natalia Dyer et Joe Keery â€“ dans un Jokes de Papa en marge de la Paris Games Week. Quelle Ã©quipe craquera sous la pression face Ã  des blagues aussi nulles?\\textbackslash{}n\\textbackslash{}nSaison 2 de Stranger Things :\\textbackslash{}nâ–¶ https://youtube.com/watch?v=JSQToYeeR4E\\textbackslash{}n\\textbackslash{}nDad Jokes de All Def Digital :\\textbackslash{}nâ–¶ https://youtube.com/AllDefDigital\\textbackslash{}n\\textbackslash{}nJokes de Papa de GaboomFilms :\\textbackslash{}nâ–¶ https://youtube.com/playlist?list=PLKVHXumEUNS53qA3\\_GkAlR9eMsHkMfsek\\textbackslash{}n\\textbackslash{}nNOTRE BOUTIQUE : http://society6.com/jeuserieux\\textbackslash{}nFACEBOOK : http://facebook.com/jeuserieux\\textbackslash{}nABONNEZ-VOUS : http://bit.ly/jeuserieux                                                                                                                                                                                                                                                                                                                                                                                                                                                                                                                                                                                                                                                                                                                                                                                                                                                                                                                                                                                                                                                                                                                                                                             \\\\\n",
       "\\end{tabular}\n"
      ],
      "text/markdown": [
       "\n",
       "A data.frame: 6 × 16\n",
       "\n",
       "| video_id &lt;fct&gt; | trending_date &lt;fct&gt; | title &lt;fct&gt; | channel_title &lt;fct&gt; | category_id &lt;int&gt; | publish_time &lt;fct&gt; | tags &lt;fct&gt; | views &lt;int&gt; | likes &lt;int&gt; | dislikes &lt;int&gt; | comment_count &lt;int&gt; | thumbnail_link &lt;fct&gt; | comments_disabled &lt;fct&gt; | ratings_disabled &lt;fct&gt; | video_error_or_removed &lt;fct&gt; | description &lt;fct&gt; |\n",
       "|---|---|---|---|---|---|---|---|---|---|---|---|---|---|---|---|\n",
       "| Ro6eob0LrCY | 17.14.11 | Malika LePen : Femme de Gauche - Trailer                                                             | Le Raptor Dissident    | 24 | 2017-11-13T17:32:55.000Z | Raptor\"|\"Dissident\"|\"Expliquez\"|\"moi\"|\"cette\"|\"merde                                                                                                                                                                                                                                                                                           | 212702 | 29282 | 1108 | 3817 | https://i.ytimg.com/vi/Ro6eob0LrCY/default.jpg | False | False | False | Dimanche.\\n18h30.\\nSoyez prÃ©sents pour la vidÃ©o la plus rÃ©alistiquement haineuse du YouTube Game.\\n\\nStrike sous 24h garanti.\\n\\nMontage de NastyTanooki : https://www.youtube.com/channel/UCJvYnKvJZSIz-2deI7Xppww\\n\\n------------------------------------------------------------------------------------------------\\n\\nRAPTORCOACHING PRO : raptorcoachingpro@gmail.com\\n\\nSi tu pratiques la musculation et que tu es intÃ©ressÃ©(e) par un Programme/DiÃ¨te PersonnalisÃ©s + Suivi, envoie nous un mail avec ton Nom/Ã‚ge/Objectif et le coach s'occupera de toi. Le training sera rÃ©alisÃ© en fonction des objectifs aussi bien muscu prise de muscle/sÃ¨che que prÃ©pa sportive/concours.\\n\\nPROZIS : -10% sur tout le site http://prozis.com/lb5 avec le coupon COACHINGPRO10\\n\\n------------------------------------------------------------------------------------------------\\n\\nRejoins la dissidence jurassique sur les rÃ©seaux sociaux :\\n\\nFACEBOOK : https://www.facebook.com/LeRaptorDissident\\n\\nTWITTER : https://twitter.com/RaptorDissident\\n\\nSNAPCHAT : raptorvswild\\n\\nINSTAGRAM : raptorvsfonte\\n\\nTIPEE D'OR : https://www.tipeee.com/le-raptor-dissident\\n\\n------------------------------------------------------------------------------------------------\\n\\nSources :\\n\\nMusique : https://www.youtube.com/watch?v=7vn5BD0oadM\\n\\nMa BanniÃ¨re et mon Avatar YouTube : LeDessinator https://www.youtube.com/channel/UCXLIl-l_zi1lCVrJHLJqJew                                                                                                                                                                                                                                                                                                                                                                                                                                                                       |\n",
       "| Yo84eqYwP98 | 17.14.11 | LA PIRE PARTIE ft Le Rire Jaune, Pierre Croce, Fabien Olicard, Nad Rich' Hard, Max Bird, Studio Vrac | Le Labo                | 24 | 2017-11-12T15:00:02.000Z | [none]                                                                                                                                                                                                                                                                                                                                         | 432721 | 14053 |  576 | 1161 | https://i.ytimg.com/vi/Yo84eqYwP98/default.jpg | False | False | False | Le jeu de sociÃ©tÃ©: https://goo.gl/hhG1Ta\\n\\nGagner le jeu signÃ© par tous les joueurs: \\n\\nChaÃ®ne de Studio Vrac: https://goo.gl/HVPoJs\\nChaÃ®ne du Rire Jaune: https://goo.gl/JqUGNj\\nChaÃ®ne de Fabien Olicard: https://goo.gl/uc6zii\\nChaÃ®ne de Nad Rich' Hard: https://goo.gl/hiy2mw\\nChaÃ®ne de Pierre Croce: https://goo.gl/PVijXG\\nChaÃ®ne de Max Bird: https://goo.gl/A9Zc1r\\nChaÃ®ne des astuces de Margaux: https://goo.gl/Pz9L1v\\n\\n\\n------------------\\n\\nSi tu m'envoies un colis ou une lettre, n'oublie pas d'y laisser ton adresse pour t'ajouter Ã  la carte des abonnÃ©s !\\n\\nLa carte des abonnÃ©s: https://goo.gl/438YIX\\n\\n\\nMa liste de recherches de cartes Battle Tube : https://goo.gl/zG6Npz\\nMa liste de recherches de cartes Yu-Gi-Oh : https://goo.gl/40bUBO\\nMa liste de recherches de jeux GameCube : https://goo.gl/cMEAM7\\n\\n------------------\\n\\nTu veux m'envoyer un colis ?\\nC'est ici:\\n\\nDoc Seven\\nUne piÃ¨ce en plus\\n119 Avenue Paul Vaillant Couturier\\n94250 Gentilly\\n\\n------------------\\n\\nTu veux m'envoyer une lettre ?\\nC'est ici:\\n\\nDoc Seven\\n8, rue du Fg PoissonniÃ¨re\\n75010 Paris\\n\\n------------------\\n\\nSi vous venez de ma chaÃ®ne principale, vous me connaissez, sinon allez faire un tour sur ma chaÃ®ne principale: \\nhttps://www.youtube.com/channel/UC5Twj1Axp_-9HLsZ5o_cEQQ\\n\\nN'oubliez pas de vous abonner et n'hÃ©sitez pas Ã  me suivre sur les rÃ©seaux sociaux!\\n\\nFacebook: https://www.facebook.com/DocSevenTV\\nTwitter: https://twitter.com/DocSevenTV\\nInstagram: https://www.instagram.com/docseventv/\\n\\n------------------\\n\\nCrÃ©dit(s) musique:\\nArtistes rÃ©currents:\\n- KronoMuzik : https://www.youtube.com/channel/UC5C9...\\n\\n- Anthox : https://www.youtube.com/user/wildesyde\\n\\n- Efisio Cross : https://www.youtube.com/user/EfisioSymphony\\n\\nGraphisme de la chaÃ®ne:\\nBoidin: https://www.youtube.com/user/battlefrite |\n",
       "| ceqntSXE-10 | 17.14.11 | DESSINS ANIMEÌS FRANCÌ§AIS VS RUSSES 2 - Daniil le Russe                                            | Daniil le Russe        | 23 | 2017-11-13T17:00:38.000Z | cartoon\"|\"pokÃ©mon\"|\"Ã©cole\"|\"ours\"|\"Ð¼ÑƒÐ»ÑŒÑ‚Ñ„Ð¸Ð»ÑŒÐ¼                                                                                                                                                                                                                                                                                      | 482153 | 76203 |  477 | 9580 | https://i.ytimg.com/vi/ceqntSXE-10/default.jpg | False | False | False | Une nouvelle dose de dessins animÃ©s franÃ§ais et russes ! \\nLikes et dites moi quel est votre dessin animÃ© prÃ©fÃ©rÃ© en com !\\n\\nDessins animÃ©s russes : Ilia Mouromets (Ð˜Ð»ÑŒÑ ÐœÑƒÑ€Ð¾Ð¼ÐµÑ†) \\nPokÃ©mon\\nPeppa Pig\\nTcheburachka (Ð§ÐµÐ±ÑƒÑ€Ð°ÑˆÐºÐ°)\\nWinnie Pooh (Ð’Ð¸Ð½Ð½Ð¸ ÐŸÑƒÑ…) \\nFunky Cops\\nLe policier Russe : ÐšÐ°Ð¿Ð¸Ñ‚Ð°Ð½ ÐŸÑ€Ð¾Ð½Ð¸Ð½\\nInspecteur Gadget\\nKarlson (ÐšÐ°Ñ€Ð»ÑÐ¾Ð½)                                                                                                                                                                                                                                                                                                                                                                                                                                                                                                                                                                                                                                                                                                                                                                                                                                                                                                                                                                                                                                                                                                                                                                                                                                                                                                                                                                                                                                                                                                                                                                        |\n",
       "| WuTFI5qftCE | 17.14.11 | PAPY GRENIER - METAL GEAR SOLID                                                                      | Joueur Du Grenier      | 20 | 2017-11-12T17:00:02.000Z | Papy grenier\"|\"Metal Gear Solid\"|\"PS1\"|\"Tirage d'oreille\"|\"Humour\"|\"retro Gaming\"|\"Joueur du Grenier\"|\"JDG                                                                                                                                                                                                                                     | 925222 | 85016 |  550 | 4303 | https://i.ytimg.com/vi/WuTFI5qftCE/default.jpg | False | False | False | Nouvel ,Ã©pisode de Papy Grenier ! Ce mois-ci on part du cotÃ© de METAL GEAR SOLID ! N'hÃ©sitez pas Ã  partager si vous avez aimÃ©, ca nous aide ^^ Bisous et rdv dans 1 mois !                                                                                                                                                                                                                                                                                                                                                                                                                                                                                                                                                                                                                                                                                                                                                                                                                                                                                                                                                                                                                                                                                                                                                                                                                                                                                                                                                                                                                                                                                                                                                                                                                                                                                                                                                                                                              |\n",
       "| ee6OFs8TdEg | 17.14.11 | QUI SAUTERA LE PLUS HAUT ? (VÃ‰LO SKATE ROLLER TROTTINETTE)                                          | Aurelien Fontenoy      | 17 | 2017-11-13T16:30:03.000Z | vÃ©lo\"|\"vtt\"|\"bmx\"|\"freestyle\"|\"bike\"|\"mtb\"|\"dirt\"|\"trottinette\"|\"scoot\"|\"scooter\"|\"skate\"|\"roller\"|\"trampoline\"|\"trampoline parc\"|\"trampoline park\"|\"big air\"|\"air bag\"|\"mousse\"|\"bac Ã  mousse\"|\"saut\"|\"tricks\"|\"dÃ©fi\"|\"challenge\"|\"saut en hauteur                                                                                         | 141695 |  8091 |   72 |  481 | https://i.ytimg.com/vi/ee6OFs8TdEg/default.jpg | False | False | False | Sauts Ã  plus de 4 mÃ¨tres de haut dans un trampoline park / air bag. Qui sautera le plus haut entre un Vtt, un skate, un roller ou une trottinette ?  Qui jouera le mieux au basket ? ou qui ferra les plus belles figures en touchant un drone ?\\n-------------------------------------------------------------\\nAbonne-toi Ã  ma chaine pour plus de dÃ©fis avec mon vÃ©lo : http://urlz.fr/5v1l\\nFacebook: http://urlz.fr/51gN\\nInstagram: http://urlz.fr/51gO\\nTwitter: http://urlz.fr/5LQN\\nSnap: Aurelfontenoy\\nWeb: www.bombershow.com (Mes dÃ©monstrations VTT Trial / Freestyle)\\n-----------------------------------\\nBONS PLANS:\\n-10 % sur tout le matos, vÃ©los trial ... chez www.SeriousConnection.com -- CODE: SERIOUSAUREL\\n-10% sur tous les complÃ©ments Alimentaires chez www.impactnutritionshop.com -- CODE: AUREL_HVD\\n------------------------------------\\nBAM FREESPORTS (Trampoline Park Ã  Grenoble)\\n Site Internet: www.bam-freesports.com\\nFacebook:  http://urlz.fr/5tQD\\n------------------------------\\nLes AthlÃ¨tes :\\n*Franck Paulin (VTT Freestyle)\\nYoutube: http://urlz.fr/5T8a\\nInstagram: http://urlz.fr/5tQB\\n*Maxime Cadoux (Skate / Wakeboard)\\nInstagram: http://urlz.fr/66Wk\\nYoutube: http://urlz.fr/66VS\\n*Nico Dao (Roller)\\nInstagram: http://urlz.fr/67nu\\n-----------------------------------\\nCamÃ©raman: Art'Home production (http://urlz.fr/5ce5)\\nEdit : BOMBER SHOW - www.bombershow.com                                                                                                                                                                                                                                                                                                                                                                                                                                                                                                              |\n",
       "| teXaL6GdQRk | 17.14.11 | STRANGER JOKES : Jokes de Papa avec les teens de Stranger Things                                     | Le Jeu, C'est SÃ©rieux | 23 | 2017-11-13T15:48:57.000Z | Stranger Jokes\"|\"Jokes de Papa\"|\"Stranger Things\"|\"Charlie Heaton\"|\"Natalia Dyer\"|\"Joe Keery\"|\"DrÃ´le\"|\"Humour\"|\"Blagues nulles\"|\"Dad Jokes\"|\"Netflix\"|\"Demogorgon\"|\"Onze\"|\"Eleven\"|\"Will\"|\"Joyce\"|\"Jonathan\"|\"Nancy\"|\"Steve\"|\"Paris Games Week\"|\"Try Not To Laugh\"|\"Try Not To Cringe\"|\"Essaye de ne pas rire\"|\"JeuSerieux\"|\"France\"|\"QuÃ©bec | 141253 | 14354 |  202 |  417 | https://i.ytimg.com/vi/teXaL6GdQRk/default.jpg | False | False | False | Contenu commanditÃ© par Netflix France.\\nInspirÃ© de Dads Jokes (All Def Digital) et Jokes de Papa (GaboomFilms).\\n\\nChose Ã©trange pour Guiz et Laurent d'affronter les teens de Stranger Things â€“ Charlie Heaton, Natalia Dyer et Joe Keery â€“ dans un Jokes de Papa en marge de la Paris Games Week. Quelle Ã©quipe craquera sous la pression face Ã  des blagues aussi nulles?\\n\\nSaison 2 de Stranger Things :\\nâ–¶ https://youtube.com/watch?v=JSQToYeeR4E\\n\\nDad Jokes de All Def Digital :\\nâ–¶ https://youtube.com/AllDefDigital\\n\\nJokes de Papa de GaboomFilms :\\nâ–¶ https://youtube.com/playlist?list=PLKVHXumEUNS53qA3_GkAlR9eMsHkMfsek\\n\\nNOTRE BOUTIQUE : http://society6.com/jeuserieux\\nFACEBOOK : http://facebook.com/jeuserieux\\nABONNEZ-VOUS : http://bit.ly/jeuserieux                                                                                                                                                                                                                                                                                                                                                                                                                                                                                                                                                                                                                                                                                                                                                                                                                                                                                                                                                                                                                                                                                                                                                                              |\n",
       "\n"
      ],
      "text/plain": [
       "  video_id    trending_date\n",
       "1 Ro6eob0LrCY 17.14.11     \n",
       "2 Yo84eqYwP98 17.14.11     \n",
       "3 ceqntSXE-10 17.14.11     \n",
       "4 WuTFI5qftCE 17.14.11     \n",
       "5 ee6OFs8TdEg 17.14.11     \n",
       "6 teXaL6GdQRk 17.14.11     \n",
       "  title                                                                                               \n",
       "1 Malika LePen : Femme de Gauche - Trailer                                                            \n",
       "2 LA PIRE PARTIE ft Le Rire Jaune, Pierre Croce, Fabien Olicard, Nad Rich' Hard, Max Bird, Studio Vrac\n",
       "3 DESSINS ANIMEÌ\\201S FRANCÌ§AIS VS RUSSES 2 - Daniil le Russe                                           \n",
       "4 PAPY GRENIER - METAL GEAR SOLID                                                                     \n",
       "5 QUI SAUTERA LE PLUS HAUT ? (VÃ‰LO SKATE ROLLER TROTTINETTE)                                         \n",
       "6 STRANGER JOKES : Jokes de Papa avec les teens de Stranger Things                                    \n",
       "  channel_title          category_id publish_time            \n",
       "1 Le Raptor Dissident    24          2017-11-13T17:32:55.000Z\n",
       "2 Le Labo                24          2017-11-12T15:00:02.000Z\n",
       "3 Daniil le Russe        23          2017-11-13T17:00:38.000Z\n",
       "4 Joueur Du Grenier      20          2017-11-12T17:00:02.000Z\n",
       "5 Aurelien Fontenoy      17          2017-11-13T16:30:03.000Z\n",
       "6 Le Jeu, C'est SÃ©rieux 23          2017-11-13T15:48:57.000Z\n",
       "  tags                                                                                                                                                                                                                                                                                                                                          \n",
       "1 Raptor\"|\"Dissident\"|\"Expliquez\"|\"moi\"|\"cette\"|\"merde                                                                                                                                                                                                                                                                                          \n",
       "2 [none]                                                                                                                                                                                                                                                                                                                                        \n",
       "3 cartoon\"|\"pokÃ©mon\"|\"Ã©cole\"|\"ours\"|\"Ð¼ÑƒÐ»ÑŒÑ‚Ñ„Ð¸Ð»ÑŒÐ¼                                                                                                                                                                                                                                                                                     \n",
       "4 Papy grenier\"|\"Metal Gear Solid\"|\"PS1\"|\"Tirage d'oreille\"|\"Humour\"|\"retro Gaming\"|\"Joueur du Grenier\"|\"JDG                                                                                                                                                                                                                                    \n",
       "5 vÃ©lo\"|\"vtt\"|\"bmx\"|\"freestyle\"|\"bike\"|\"mtb\"|\"dirt\"|\"trottinette\"|\"scoot\"|\"scooter\"|\"skate\"|\"roller\"|\"trampoline\"|\"trampoline parc\"|\"trampoline park\"|\"big air\"|\"air bag\"|\"mousse\"|\"bac Ã  mousse\"|\"saut\"|\"tricks\"|\"dÃ©fi\"|\"challenge\"|\"saut en hauteur                                                                                        \n",
       "6 Stranger Jokes\"|\"Jokes de Papa\"|\"Stranger Things\"|\"Charlie Heaton\"|\"Natalia Dyer\"|\"Joe Keery\"|\"DrÃ´le\"|\"Humour\"|\"Blagues nulles\"|\"Dad Jokes\"|\"Netflix\"|\"Demogorgon\"|\"Onze\"|\"Eleven\"|\"Will\"|\"Joyce\"|\"Jonathan\"|\"Nancy\"|\"Steve\"|\"Paris Games Week\"|\"Try Not To Laugh\"|\"Try Not To Cringe\"|\"Essaye de ne pas rire\"|\"JeuSerieux\"|\"France\"|\"QuÃ©bec\n",
       "  views  likes dislikes comment_count\n",
       "1 212702 29282 1108     3817         \n",
       "2 432721 14053  576     1161         \n",
       "3 482153 76203  477     9580         \n",
       "4 925222 85016  550     4303         \n",
       "5 141695  8091   72      481         \n",
       "6 141253 14354  202      417         \n",
       "  thumbnail_link                                 comments_disabled\n",
       "1 https://i.ytimg.com/vi/Ro6eob0LrCY/default.jpg False            \n",
       "2 https://i.ytimg.com/vi/Yo84eqYwP98/default.jpg False            \n",
       "3 https://i.ytimg.com/vi/ceqntSXE-10/default.jpg False            \n",
       "4 https://i.ytimg.com/vi/WuTFI5qftCE/default.jpg False            \n",
       "5 https://i.ytimg.com/vi/ee6OFs8TdEg/default.jpg False            \n",
       "6 https://i.ytimg.com/vi/teXaL6GdQRk/default.jpg False            \n",
       "  ratings_disabled video_error_or_removed\n",
       "1 False            False                 \n",
       "2 False            False                 \n",
       "3 False            False                 \n",
       "4 False            False                 \n",
       "5 False            False                 \n",
       "6 False            False                 \n",
       "  description                                                                                                                                                                                                                                                                                                                                                                                                                                                                                                                                                                                                                                                                                                                                                                                                                                                                                                                                                                                                                                                                                                                                                                                                                                                                                                                                                                                                                                                                                                                                                                                                                                                                                                                                                                                                                                                                                                                                                                                 \n",
       "1 Dimanche.\\\\n18h30.\\\\nSoyez prÃ©sents pour la vidÃ©o la plus rÃ©alistiquement haineuse du YouTube Game.\\\\n\\\\nStrike sous 24h garanti.\\\\n\\\\nMontage de NastyTanooki : https://www.youtube.com/channel/UCJvYnKvJZSIz-2deI7Xppww\\\\n\\\\n------------------------------------------------------------------------------------------------\\\\n\\\\nRAPTORCOACHING PRO : raptorcoachingpro@gmail.com\\\\n\\\\nSi tu pratiques la musculation et que tu es intÃ©ressÃ©(e) par un Programme/DiÃ¨te PersonnalisÃ©s + Suivi, envoie nous un mail avec ton Nom/Ã‚ge/Objectif et le coach s'occupera de toi. Le training sera rÃ©alisÃ© en fonction des objectifs aussi bien muscu prise de muscle/sÃ¨che que prÃ©pa sportive/concours.\\\\n\\\\nPROZIS : -10% sur tout le site http://prozis.com/lb5 avec le coupon COACHINGPRO10\\\\n\\\\n------------------------------------------------------------------------------------------------\\\\n\\\\nRejoins la dissidence jurassique sur les rÃ©seaux sociaux :\\\\n\\\\nFACEBOOK : https://www.facebook.com/LeRaptorDissident\\\\n\\\\nTWITTER : https://twitter.com/RaptorDissident\\\\n\\\\nSNAPCHAT : raptorvswild\\\\n\\\\nINSTAGRAM : raptorvsfonte\\\\n\\\\nTIPEE D'OR : https://www.tipeee.com/le-raptor-dissident\\\\n\\\\n------------------------------------------------------------------------------------------------\\\\n\\\\nSources :\\\\n\\\\nMusique : https://www.youtube.com/watch?v=7vn5BD0oadM\\\\n\\\\nMa BanniÃ¨re et mon Avatar YouTube : LeDessinator https://www.youtube.com/channel/UCXLIl-l_zi1lCVrJHLJqJew                                                                                                                                                                                                                                                                                                                                                                                                                                                                      \n",
       "2 Le jeu de sociÃ©tÃ©: https://goo.gl/hhG1Ta\\\\n\\\\nGagner le jeu signÃ© par tous les joueurs: \\\\n\\\\nChaÃ®ne de Studio Vrac: https://goo.gl/HVPoJs\\\\nChaÃ®ne du Rire Jaune: https://goo.gl/JqUGNj\\\\nChaÃ®ne de Fabien Olicard: https://goo.gl/uc6zii\\\\nChaÃ®ne de Nad Rich' Hard: https://goo.gl/hiy2mw\\\\nChaÃ®ne de Pierre Croce: https://goo.gl/PVijXG\\\\nChaÃ®ne de Max Bird: https://goo.gl/A9Zc1r\\\\nChaÃ®ne des astuces de Margaux: https://goo.gl/Pz9L1v\\\\n\\\\n\\\\n------------------\\\\n\\\\nSi tu m'envoies un colis ou une lettre, n'oublie pas d'y laisser ton adresse pour t'ajouter Ã  la carte des abonnÃ©s !\\\\n\\\\nLa carte des abonnÃ©s: https://goo.gl/438YIX\\\\n\\\\n\\\\nMa liste de recherches de cartes Battle Tube : https://goo.gl/zG6Npz\\\\nMa liste de recherches de cartes Yu-Gi-Oh : https://goo.gl/40bUBO\\\\nMa liste de recherches de jeux GameCube : https://goo.gl/cMEAM7\\\\n\\\\n------------------\\\\n\\\\nTu veux m'envoyer un colis ?\\\\nC'est ici:\\\\n\\\\nDoc Seven\\\\nUne piÃ¨ce en plus\\\\n119 Avenue Paul Vaillant Couturier\\\\n94250 Gentilly\\\\n\\\\n------------------\\\\n\\\\nTu veux m'envoyer une lettre ?\\\\nC'est ici:\\\\n\\\\nDoc Seven\\\\n8, rue du Fg PoissonniÃ¨re\\\\n75010 Paris\\\\n\\\\n------------------\\\\n\\\\nSi vous venez de ma chaÃ®ne principale, vous me connaissez, sinon allez faire un tour sur ma chaÃ®ne principale: \\\\nhttps://www.youtube.com/channel/UC5Twj1Axp_-9HLsZ5o_cEQQ\\\\n\\\\nN'oubliez pas de vous abonner et n'hÃ©sitez pas Ã  me suivre sur les rÃ©seaux sociaux!\\\\n\\\\nFacebook: https://www.facebook.com/DocSevenTV\\\\nTwitter: https://twitter.com/DocSevenTV\\\\nInstagram: https://www.instagram.com/docseventv/\\\\n\\\\n------------------\\\\n\\\\nCrÃ©dit(s) musique:\\\\nArtistes rÃ©currents:\\\\n- KronoMuzik : https://www.youtube.com/channel/UC5C9...\\\\n\\\\n- Anthox : https://www.youtube.com/user/wildesyde\\\\n\\\\n- Efisio Cross : https://www.youtube.com/user/EfisioSymphony\\\\n\\\\nGraphisme de la chaÃ®ne:\\\\nBoidin: https://www.youtube.com/user/battlefrite\n",
       "3 Une nouvelle dose de dessins animÃ©s franÃ§ais et russes ! \\\\nLikes et dites moi quel est votre dessin animÃ© prÃ©fÃ©rÃ© en com !\\\\n\\\\nDessins animÃ©s russes : Ilia Mouromets (Ð\\230Ð»ÑŒÑ\\217 ÐœÑƒÑ\\200Ð¾Ð¼ÐµÑ†) \\\\nPokÃ©mon\\\\nPeppa Pig\\\\nTcheburachka (Ð§ÐµÐ±ÑƒÑ\\200Ð°Ñ\\210ÐºÐ°)\\\\nWinnie Pooh (Ð’Ð¸Ð½Ð½Ð¸ ÐŸÑƒÑ…) \\\\nFunky Cops\\\\nLe policier Russe : ÐšÐ°Ð¿Ð¸Ñ‚Ð°Ð½ ÐŸÑ\\200Ð¾Ð½Ð¸Ð½\\\\nInspecteur Gadget\\\\nKarlson (ÐšÐ°Ñ\\200Ð»Ñ\\201Ð¾Ð½)                                                                                                                                                                                                                                                                                                                                                                                                                                                                                                                                                                                                                                                                                                                                                                                                                                                                                                                                                                                                                                                                                                                                                                                                                                                                                                                                                                                                                                                                                                                                                                       \n",
       "4 Nouvel ,Ã©pisode de Papy Grenier ! Ce mois-ci on part du cotÃ© de METAL GEAR SOLID ! N'hÃ©sitez pas Ã  partager si vous avez aimÃ©, ca nous aide ^^ Bisous et rdv dans 1 mois !                                                                                                                                                                                                                                                                                                                                                                                                                                                                                                                                                                                                                                                                                                                                                                                                                                                                                                                                                                                                                                                                                                                                                                                                                                                                                                                                                                                                                                                                                                                                                                                                                                                                                                                                                                                                             \n",
       "5 Sauts Ã  plus de 4 mÃ¨tres de haut dans un trampoline park / air bag. Qui sautera le plus haut entre un Vtt, un skate, un roller ou une trottinette ?  Qui jouera le mieux au basket ? ou qui ferra les plus belles figures en touchant un drone ?\\\\n-------------------------------------------------------------\\\\nAbonne-toi Ã  ma chaine pour plus de dÃ©fis avec mon vÃ©lo : http://urlz.fr/5v1l\\\\nFacebook: http://urlz.fr/51gN\\\\nInstagram: http://urlz.fr/51gO\\\\nTwitter: http://urlz.fr/5LQN\\\\nSnap: Aurelfontenoy\\\\nWeb: www.bombershow.com (Mes dÃ©monstrations VTT Trial / Freestyle)\\\\n-----------------------------------\\\\nBONS PLANS:\\\\n-10 % sur tout le matos, vÃ©los trial ... chez www.SeriousConnection.com -- CODE: SERIOUSAUREL\\\\n-10% sur tous les complÃ©ments Alimentaires chez www.impactnutritionshop.com -- CODE: AUREL_HVD\\\\n------------------------------------\\\\nBAM FREESPORTS (Trampoline Park Ã  Grenoble)\\\\n Site Internet: www.bam-freesports.com\\\\nFacebook:  http://urlz.fr/5tQD\\\\n------------------------------\\\\nLes AthlÃ¨tes :\\\\n*Franck Paulin (VTT Freestyle)\\\\nYoutube: http://urlz.fr/5T8a\\\\nInstagram: http://urlz.fr/5tQB\\\\n*Maxime Cadoux (Skate / Wakeboard)\\\\nInstagram: http://urlz.fr/66Wk\\\\nYoutube: http://urlz.fr/66VS\\\\n*Nico Dao (Roller)\\\\nInstagram: http://urlz.fr/67nu\\\\n-----------------------------------\\\\nCamÃ©raman: Art'Home production (http://urlz.fr/5ce5)\\\\nEdit : BOMBER SHOW - www.bombershow.com                                                                                                                                                                                                                                                                                                                                                                                                                                                                                                             \n",
       "6 Contenu commanditÃ© par Netflix France.\\\\nInspirÃ© de Dads Jokes (All Def Digital) et Jokes de Papa (GaboomFilms).\\\\n\\\\nChose Ã©trange pour Guiz et Laurent d'affronter les teens de Stranger Things â\\200“ Charlie Heaton, Natalia Dyer et Joe Keery â\\200“ dans un Jokes de Papa en marge de la Paris Games Week. Quelle Ã©quipe craquera sous la pression face Ã  des blagues aussi nulles?\\\\n\\\\nSaison 2 de Stranger Things :\\\\nâ–¶ https://youtube.com/watch?v=JSQToYeeR4E\\\\n\\\\nDad Jokes de All Def Digital :\\\\nâ–¶ https://youtube.com/AllDefDigital\\\\n\\\\nJokes de Papa de GaboomFilms :\\\\nâ–¶ https://youtube.com/playlist?list=PLKVHXumEUNS53qA3_GkAlR9eMsHkMfsek\\\\n\\\\nNOTRE BOUTIQUE : http://society6.com/jeuserieux\\\\nFACEBOOK : http://facebook.com/jeuserieux\\\\nABONNEZ-VOUS : http://bit.ly/jeuserieux                                                                                                                                                                                                                                                                                                                                                                                                                                                                                                                                                                                                                                                                                                                                                                                                                                                                                                                                                                                                                                                                                                                                                                             "
      ]
     },
     "metadata": {},
     "output_type": "display_data"
    }
   ],
   "source": [
    "#Find the number of columns\n",
    "ncol(france_video)\n",
    "#Find the number of rows\n",
    "nrow(france_video)\n",
    "#Check the first 6 rows\n",
    "head(france_video)"
   ]
  },
  {
   "cell_type": "markdown",
   "metadata": {},
   "source": [
    "We will add a categorical variable to each of the ten datasets to tell us what countries each of them are."
   ]
  },
  {
   "cell_type": "code",
   "execution_count": 10,
   "metadata": {},
   "outputs": [],
   "source": [
    "#Create a variable for country and categorize them into different buckets\n",
    "france_video$country_code  <- 1\n",
    "britain_video$country_code  <- 2\n",
    "germany_video$country_code  <- 3\n",
    "india_video$country_code  <- 4\n",
    "japan_video$country_code  <- 5\n",
    "korea_video$country_code  <- 6\n",
    "mexico_video$country_code  <- 7\n",
    "russia_video$country_code  <- 8\n",
    "usa_video$country_code  <- 9\n",
    "canada_video$country_code  <- 10"
   ]
  },
  {
   "cell_type": "markdown",
   "metadata": {},
   "source": [
    "Let's check and see each of our new categorical variables."
   ]
  },
  {
   "cell_type": "code",
   "execution_count": 12,
   "metadata": {},
   "outputs": [
    {
     "data": {
      "text/html": [
       "<table>\n",
       "<caption>A data.frame: 6 × 17</caption>\n",
       "<thead>\n",
       "\t<tr><th scope=col>video_id</th><th scope=col>trending_date</th><th scope=col>title</th><th scope=col>channel_title</th><th scope=col>category_id</th><th scope=col>publish_time</th><th scope=col>tags</th><th scope=col>views</th><th scope=col>likes</th><th scope=col>dislikes</th><th scope=col>comment_count</th><th scope=col>thumbnail_link</th><th scope=col>comments_disabled</th><th scope=col>ratings_disabled</th><th scope=col>video_error_or_removed</th><th scope=col>description</th><th scope=col>country_code</th></tr>\n",
       "\t<tr><th scope=col>&lt;fct&gt;</th><th scope=col>&lt;fct&gt;</th><th scope=col>&lt;fct&gt;</th><th scope=col>&lt;fct&gt;</th><th scope=col>&lt;int&gt;</th><th scope=col>&lt;fct&gt;</th><th scope=col>&lt;fct&gt;</th><th scope=col>&lt;int&gt;</th><th scope=col>&lt;int&gt;</th><th scope=col>&lt;int&gt;</th><th scope=col>&lt;int&gt;</th><th scope=col>&lt;fct&gt;</th><th scope=col>&lt;fct&gt;</th><th scope=col>&lt;fct&gt;</th><th scope=col>&lt;fct&gt;</th><th scope=col>&lt;fct&gt;</th><th scope=col>&lt;dbl&gt;</th></tr>\n",
       "</thead>\n",
       "<tbody>\n",
       "\t<tr><td>Jw1Y-zhQURU</td><td>17.14.11</td><td>John Lewis Christmas Ad 2017 - #MozTheMonster                               </td><td>John Lewis                </td><td>26</td><td>2017-11-10T07:38:29.000Z</td><td>christmas|john lewis christmas|john lewis|christmas ad|mozthemonster|christmas 2017|christmas ad 2017|john lewis christmas advert|moz                                                                                                                                                                                                                                                           </td><td> 7224515</td><td> 55681</td><td>10247</td><td>  9479</td><td>https://i.ytimg.com/vi/Jw1Y-zhQURU/default.jpg</td><td>False</td><td>False</td><td>False</td><td>Click here to continue the story and make your own monster:\\nhttp://bit.ly/2mboXgj\\n\\nJoe befriends a noisy Monster under his bed but the two have so much fun together that he can't get to sleep, leaving him tired by day. For Christmas Joe receives a gift to help him finally get a good nightâ€™s sleep.\\n\\nShop the ad\\nhttp://bit.ly/2hg04Lc\\n\\nThe music is Golden Slumbers performed by elbow, the original song was by The Beatles. \\nFind the track:\\nhttps://Elbow.lnk.to/GoldenSlumbersXS\\n\\nSubscribe to this channel for regular video updates\\nhttp://bit.ly/2eU8MvW\\n\\nIf you want to hear more from John Lewis:\\n\\nLike John Lewis on Facebook\\nhttp://www.facebook.com/johnlewisretail\\n\\nFollow John Lewis on Twitter\\nhttp://twitter.com/johnlewisretail\\n\\nFollow John Lewis on Instagram\\nhttp://instagram.com/johnlewisretail                                                                  </td><td>2</td></tr>\n",
       "\t<tr><td>3s1rvMFUweQ</td><td>17.14.11</td><td>Taylor Swift: â€¦Ready for It? (Live) - SNL                                 </td><td>Saturday Night Live       </td><td>24</td><td>2017-11-12T06:24:44.000Z</td><td>SNL|Saturday Night Live|SNL Season 43|Episode 1730|Tiffany Haddish|Taylor Swift|Taylor Swift Ready for It|s43|s43e5|episode 5|live|new york|comedy|sketch|funny|hilarious|late night|host|music|guest|laugh|impersonation|actor|improv|musician|comedian|actress|If Loving You Is Wrong|Oprah Winfrey|OWN|Girls Trip|The Carmichael Show|Keanu|Reputation|Look What You Made Me Do|ready for it?</td><td> 1053632</td><td> 25561</td><td> 2294</td><td>  2757</td><td>https://i.ytimg.com/vi/3s1rvMFUweQ/default.jpg</td><td>False</td><td>False</td><td>False</td><td>Musical guest Taylor Swift performs â€¦Ready for It? on Saturday Night Live.\\n\\n#SNL #SNL43\\n\\nGet more SNL: http://www.nbc.com/saturday-night-live\\nFull Episodes: http://www.nbc.com/saturday-night-liv...\\n\\nLike SNL: https://www.facebook.com/snl\\nFollow SNL: https://twitter.com/nbcsnl\\nSNL Tumblr: http://nbcsnl.tumblr.com/\\nSNL Instagram: http://instagram.com/nbcsnl \\nSNL Pinterest: http://www.pinterest.com/nbcsnl/                                                                                                                                                                                                                                                                                                                                                                                                                                                                                                   </td><td>2</td></tr>\n",
       "\t<tr><td>n1WpP7iowLc</td><td>17.14.11</td><td>Eminem - Walk On Water (Audio) ft. BeyoncÃ©                                 </td><td>EminemVEVO                </td><td>10</td><td>2017-11-10T17:00:03.000Z</td><td>Eminem|Walk|On|Water|Aftermath/Shady/Interscope|Rap                                                                                                                                                                                                                                                                                                                                             </td><td>17158579</td><td>787420</td><td>43420</td><td>125882</td><td>https://i.ytimg.com/vi/n1WpP7iowLc/default.jpg</td><td>False</td><td>False</td><td>False</td><td>Eminem's new track Walk on Water ft. BeyoncÃ© is available everywhere: http://shady.sr/WOWEminem \\nPlaylist Best of Eminem: https://goo.gl/AquNpo\\nSubscribe for more: https://goo.gl/DxCrDV\\n\\nFor more visit: \\nhttp://eminem.com\\nhttp://facebook.com/eminem\\nhttp://twitter.com/eminem\\nhttp://instagram.com/eminem\\nhttp://eminem.tumblr.com\\nhttp://shadyrecords.com\\nhttp://facebook.com/shadyrecords\\nhttp://twitter.com/shadyrecords\\nhttp://instagram.com/shadyrecords\\nhttp://trustshady.tumblr.com\\n\\nMusic video by Eminem performing Walk On Water. (C) 2017 Aftermath Records\\nhttp://vevo.ly/gA7xKt                                                                                                                                                                                                                                                                                                             </td><td>2</td></tr>\n",
       "\t<tr><td>PUTEiSjKwJU</td><td>17.14.11</td><td>Goals from Salford City vs Class of 92 and Friends at The Peninsula Stadium!</td><td>Salford City Football Club</td><td>17</td><td>2017-11-13T02:30:38.000Z</td><td>Salford City FC|Salford City|Salford|Class of 92|University of Salford|Salford Uni|Non League|National League|National League North                                                                                                                                                                                                                                                             </td><td>   27833</td><td>   193</td><td>   12</td><td>    37</td><td>https://i.ytimg.com/vi/PUTEiSjKwJU/default.jpg</td><td>False</td><td>False</td><td>False</td><td>Salford drew 4-4 against the Class of 92 and Friends at the newly opened The Peninsula Stadium!\\n\\nLike us on Facebook: https://www.facebook.com/SalfordCityFC/ \\nFollow us on Twitter: https://twitter.com/SalfordCityFC\\nFollow us on Instagram: https://www.instagram.com/salfordcityfc/ \\nSubscribe to us on YouTube: https://www.youtube.com/user/SalfordCityTV\\n\\nWebsite: https://salfordcityfc.co.uk                                                                                                                                                                                                                                                                                                                                                                                                                                                                                                                              </td><td>2</td></tr>\n",
       "\t<tr><td>rHwDegptbI4</td><td>17.14.11</td><td>Dashcam captures truck's near miss with child in Norway                     </td><td>Cute Girl Videos          </td><td>25</td><td>2017-11-13T01:45:13.000Z</td><td>[none]                                                                                                                                                                                                                                                                                                                                                                                          </td><td>    9815</td><td>    30</td><td>    2</td><td>    30</td><td>https://i.ytimg.com/vi/rHwDegptbI4/default.jpg</td><td>False</td><td>False</td><td>False</td><td>Dashcam captures truck's near miss with child in Norway\\nThe close call happened as children were getting off a school bus in Norway.\\n\\nEurope\\nNorway                                                                                                                                                                                                                                                                                                                                                                                                                                                                                                                                                                                                                                                                                                                                                                                      </td><td>2</td></tr>\n",
       "\t<tr><td>AumaWl0TNBo</td><td>17.14.11</td><td>How My Relationship Started!                                                </td><td>PointlessBlogVlogs        </td><td>24</td><td>2017-11-11T17:00:00.000Z</td><td>pointlessblog|pointlessblogtv|pointlessblogvlogs|games|gaming|daily|vlog|zoe|sugg|funny|zoella|zozeebo|new|house|nala|cute|puppy|british|teen|couple|zalfie|how|my|relationship|started|first|time|kiss|niomi|smart|trip|adventure|travel|holiday|merch|pb|office|tour                                                                                                                          </td><td> 1182775</td><td> 52708</td><td> 1431</td><td>  2333</td><td>https://i.ytimg.com/vi/AumaWl0TNBo/default.jpg</td><td>False</td><td>False</td><td>False</td><td>â–º HOW MY RELATIONSHIP STARTED!\\nâ–º PB Merch â€¢ http://bit.ly/New-PBMerch \\nâ–º PB Merch â€¢ http://bit.ly/New-PBMerch \\n----------------------------------------Â­Â­Â­Â­Â­Â­Â­----------------------------------Â­-Â­-Â­-Â­\\nâ€¢ My Links â€¢\\nMain Channel â€¢ http://youtube.com/pointlessblog \\nGaming Channel â€¢ http://youtube.com/AlfieGames \\nTwitter â€¢ https://twitter.com/pointlessblog \\nFacebook â€¢ http://fb.com/PointlessBlogTv \\nTumblr â€¢ http://pointlessblogtv.tumblr.com \\nSnapChat â€¢ PointlessBlog\\n----------------------------------------Â­Â­Â­Â­Â­Â­Â­----------------------------------Â­-Â­-Â­-Â­-\\nâ€¢ Music â€¢\\nAndrew Applepie\\n----------------------------------------Â­Â­Â­Â­Â­Â­Â­----------------------------------Â­-Â­-Â­-Â­-\\nâ€¢ Contact â€¢ Enquiries@PointlessBlog.co.uk\\n----------------------------------------Â­Â­Â­Â­Â­Â­Â­----------------------------------Â­-Â­-Â­-Â­-</td><td>2</td></tr>\n",
       "</tbody>\n",
       "</table>\n"
      ],
      "text/latex": [
       "A data.frame: 6 × 17\n",
       "\\begin{tabular}{r|lllllllllllllllll}\n",
       " video\\_id & trending\\_date & title & channel\\_title & category\\_id & publish\\_time & tags & views & likes & dislikes & comment\\_count & thumbnail\\_link & comments\\_disabled & ratings\\_disabled & video\\_error\\_or\\_removed & description & country\\_code\\\\\n",
       " <fct> & <fct> & <fct> & <fct> & <int> & <fct> & <fct> & <int> & <int> & <int> & <int> & <fct> & <fct> & <fct> & <fct> & <fct> & <dbl>\\\\\n",
       "\\hline\n",
       "\t Jw1Y-zhQURU & 17.14.11 & John Lewis Christmas Ad 2017 - \\#MozTheMonster                                & John Lewis                 & 26 & 2017-11-10T07:38:29.000Z & christmas\\textbar{}john lewis christmas\\textbar{}john lewis\\textbar{}christmas ad\\textbar{}mozthemonster\\textbar{}christmas 2017\\textbar{}christmas ad 2017\\textbar{}john lewis christmas advert\\textbar{}moz                                                                                                                                                                                                                                                            &  7224515 &  55681 & 10247 &   9479 & https://i.ytimg.com/vi/Jw1Y-zhQURU/default.jpg & False & False & False & Click here to continue the story and make your own monster:\\textbackslash{}nhttp://bit.ly/2mboXgj\\textbackslash{}n\\textbackslash{}nJoe befriends a noisy Monster under his bed but the two have so much fun together that he can't get to sleep, leaving him tired by day. For Christmas Joe receives a gift to help him finally get a good nightâ€™s sleep.\\textbackslash{}n\\textbackslash{}nShop the ad\\textbackslash{}nhttp://bit.ly/2hg04Lc\\textbackslash{}n\\textbackslash{}nThe music is Golden Slumbers performed by elbow, the original song was by The Beatles. \\textbackslash{}nFind the track:\\textbackslash{}nhttps://Elbow.lnk.to/GoldenSlumbersXS\\textbackslash{}n\\textbackslash{}nSubscribe to this channel for regular video updates\\textbackslash{}nhttp://bit.ly/2eU8MvW\\textbackslash{}n\\textbackslash{}nIf you want to hear more from John Lewis:\\textbackslash{}n\\textbackslash{}nLike John Lewis on Facebook\\textbackslash{}nhttp://www.facebook.com/johnlewisretail\\textbackslash{}n\\textbackslash{}nFollow John Lewis on Twitter\\textbackslash{}nhttp://twitter.com/johnlewisretail\\textbackslash{}n\\textbackslash{}nFollow John Lewis on Instagram\\textbackslash{}nhttp://instagram.com/johnlewisretail                                                                   & 2\\\\\n",
       "\t 3s1rvMFUweQ & 17.14.11 & Taylor Swift: â€¦Ready for It? (Live) - SNL                                  & Saturday Night Live        & 24 & 2017-11-12T06:24:44.000Z & SNL\\textbar{}Saturday Night Live\\textbar{}SNL Season 43\\textbar{}Episode 1730\\textbar{}Tiffany Haddish\\textbar{}Taylor Swift\\textbar{}Taylor Swift Ready for It\\textbar{}s43\\textbar{}s43e5\\textbar{}episode 5\\textbar{}live\\textbar{}new york\\textbar{}comedy\\textbar{}sketch\\textbar{}funny\\textbar{}hilarious\\textbar{}late night\\textbar{}host\\textbar{}music\\textbar{}guest\\textbar{}laugh\\textbar{}impersonation\\textbar{}actor\\textbar{}improv\\textbar{}musician\\textbar{}comedian\\textbar{}actress\\textbar{}If Loving You Is Wrong\\textbar{}Oprah Winfrey\\textbar{}OWN\\textbar{}Girls Trip\\textbar{}The Carmichael Show\\textbar{}Keanu\\textbar{}Reputation\\textbar{}Look What You Made Me Do\\textbar{}ready for it? &  1053632 &  25561 &  2294 &   2757 & https://i.ytimg.com/vi/3s1rvMFUweQ/default.jpg & False & False & False & Musical guest Taylor Swift performs â€¦Ready for It? on Saturday Night Live.\\textbackslash{}n\\textbackslash{}n\\#SNL \\#SNL43\\textbackslash{}n\\textbackslash{}nGet more SNL: http://www.nbc.com/saturday-night-live\\textbackslash{}nFull Episodes: http://www.nbc.com/saturday-night-liv...\\textbackslash{}n\\textbackslash{}nLike SNL: https://www.facebook.com/snl\\textbackslash{}nFollow SNL: https://twitter.com/nbcsnl\\textbackslash{}nSNL Tumblr: http://nbcsnl.tumblr.com/\\textbackslash{}nSNL Instagram: http://instagram.com/nbcsnl \\textbackslash{}nSNL Pinterest: http://www.pinterest.com/nbcsnl/                                                                                                                                                                                                                                                                                                                                                                                                                                                                                                    & 2\\\\\n",
       "\t n1WpP7iowLc & 17.14.11 & Eminem - Walk On Water (Audio) ft. BeyoncÃ©                                  & EminemVEVO                 & 10 & 2017-11-10T17:00:03.000Z & Eminem\\textbar{}Walk\\textbar{}On\\textbar{}Water\\textbar{}Aftermath/Shady/Interscope\\textbar{}Rap                                                                                                                                                                                                                                                                                                                                              & 17158579 & 787420 & 43420 & 125882 & https://i.ytimg.com/vi/n1WpP7iowLc/default.jpg & False & False & False & Eminem's new track Walk on Water ft. BeyoncÃ© is available everywhere: http://shady.sr/WOWEminem \\textbackslash{}nPlaylist Best of Eminem: https://goo.gl/AquNpo\\textbackslash{}nSubscribe for more: https://goo.gl/DxCrDV\\textbackslash{}n\\textbackslash{}nFor more visit: \\textbackslash{}nhttp://eminem.com\\textbackslash{}nhttp://facebook.com/eminem\\textbackslash{}nhttp://twitter.com/eminem\\textbackslash{}nhttp://instagram.com/eminem\\textbackslash{}nhttp://eminem.tumblr.com\\textbackslash{}nhttp://shadyrecords.com\\textbackslash{}nhttp://facebook.com/shadyrecords\\textbackslash{}nhttp://twitter.com/shadyrecords\\textbackslash{}nhttp://instagram.com/shadyrecords\\textbackslash{}nhttp://trustshady.tumblr.com\\textbackslash{}n\\textbackslash{}nMusic video by Eminem performing Walk On Water. (C) 2017 Aftermath Records\\textbackslash{}nhttp://vevo.ly/gA7xKt                                                                                                                                                                                                                                                                                                              & 2\\\\\n",
       "\t PUTEiSjKwJU & 17.14.11 & Goals from Salford City vs Class of 92 and Friends at The Peninsula Stadium! & Salford City Football Club & 17 & 2017-11-13T02:30:38.000Z & Salford City FC\\textbar{}Salford City\\textbar{}Salford\\textbar{}Class of 92\\textbar{}University of Salford\\textbar{}Salford Uni\\textbar{}Non League\\textbar{}National League\\textbar{}National League North                                                                                                                                                                                                                                                              &    27833 &    193 &    12 &     37 & https://i.ytimg.com/vi/PUTEiSjKwJU/default.jpg & False & False & False & Salford drew 4-4 against the Class of 92 and Friends at the newly opened The Peninsula Stadium!\\textbackslash{}n\\textbackslash{}nLike us on Facebook: https://www.facebook.com/SalfordCityFC/ \\textbackslash{}nFollow us on Twitter: https://twitter.com/SalfordCityFC\\textbackslash{}nFollow us on Instagram: https://www.instagram.com/salfordcityfc/ \\textbackslash{}nSubscribe to us on YouTube: https://www.youtube.com/user/SalfordCityTV\\textbackslash{}n\\textbackslash{}nWebsite: https://salfordcityfc.co.uk                                                                                                                                                                                                                                                                                                                                                                                                                                                                                                                               & 2\\\\\n",
       "\t rHwDegptbI4 & 17.14.11 & Dashcam captures truck's near miss with child in Norway                      & Cute Girl Videos           & 25 & 2017-11-13T01:45:13.000Z & {[}none{]}                                                                                                                                                                                                                                                                                                                                                                                           &     9815 &     30 &     2 &     30 & https://i.ytimg.com/vi/rHwDegptbI4/default.jpg & False & False & False & Dashcam captures truck's near miss with child in Norway\\textbackslash{}nThe close call happened as children were getting off a school bus in Norway.\\textbackslash{}n\\textbackslash{}nEurope\\textbackslash{}nNorway                                                                                                                                                                                                                                                                                                                                                                                                                                                                                                                                                                                                                                                                                                                                                                                       & 2\\\\\n",
       "\t AumaWl0TNBo & 17.14.11 & How My Relationship Started!                                                 & PointlessBlogVlogs         & 24 & 2017-11-11T17:00:00.000Z & pointlessblog\\textbar{}pointlessblogtv\\textbar{}pointlessblogvlogs\\textbar{}games\\textbar{}gaming\\textbar{}daily\\textbar{}vlog\\textbar{}zoe\\textbar{}sugg\\textbar{}funny\\textbar{}zoella\\textbar{}zozeebo\\textbar{}new\\textbar{}house\\textbar{}nala\\textbar{}cute\\textbar{}puppy\\textbar{}british\\textbar{}teen\\textbar{}couple\\textbar{}zalfie\\textbar{}how\\textbar{}my\\textbar{}relationship\\textbar{}started\\textbar{}first\\textbar{}time\\textbar{}kiss\\textbar{}niomi\\textbar{}smart\\textbar{}trip\\textbar{}adventure\\textbar{}travel\\textbar{}holiday\\textbar{}merch\\textbar{}pb\\textbar{}office\\textbar{}tour                                                                                                                           &  1182775 &  52708 &  1431 &   2333 & https://i.ytimg.com/vi/AumaWl0TNBo/default.jpg & False & False & False & â–º HOW MY RELATIONSHIP STARTED!\\textbackslash{}nâ–º PB Merch â€¢ http://bit.ly/New-PBMerch \\textbackslash{}nâ–º PB Merch â€¢ http://bit.ly/New-PBMerch \\textbackslash{}n----------------------------------------Â­Â­Â­Â­Â­Â­Â­----------------------------------Â­-Â­-Â­-Â­\\textbackslash{}nâ€¢ My Links â€¢\\textbackslash{}nMain Channel â€¢ http://youtube.com/pointlessblog \\textbackslash{}nGaming Channel â€¢ http://youtube.com/AlfieGames \\textbackslash{}nTwitter â€¢ https://twitter.com/pointlessblog \\textbackslash{}nFacebook â€¢ http://fb.com/PointlessBlogTv \\textbackslash{}nTumblr â€¢ http://pointlessblogtv.tumblr.com \\textbackslash{}nSnapChat â€¢ PointlessBlog\\textbackslash{}n----------------------------------------Â­Â­Â­Â­Â­Â­Â­----------------------------------Â­-Â­-Â­-Â­-\\textbackslash{}nâ€¢ Music â€¢\\textbackslash{}nAndrew Applepie\\textbackslash{}n----------------------------------------Â­Â­Â­Â­Â­Â­Â­----------------------------------Â­-Â­-Â­-Â­-\\textbackslash{}nâ€¢ Contact â€¢ Enquiries@PointlessBlog.co.uk\\textbackslash{}n----------------------------------------Â­Â­Â­Â­Â­Â­Â­----------------------------------Â­-Â­-Â­-Â­- & 2\\\\\n",
       "\\end{tabular}\n"
      ],
      "text/markdown": [
       "\n",
       "A data.frame: 6 × 17\n",
       "\n",
       "| video_id &lt;fct&gt; | trending_date &lt;fct&gt; | title &lt;fct&gt; | channel_title &lt;fct&gt; | category_id &lt;int&gt; | publish_time &lt;fct&gt; | tags &lt;fct&gt; | views &lt;int&gt; | likes &lt;int&gt; | dislikes &lt;int&gt; | comment_count &lt;int&gt; | thumbnail_link &lt;fct&gt; | comments_disabled &lt;fct&gt; | ratings_disabled &lt;fct&gt; | video_error_or_removed &lt;fct&gt; | description &lt;fct&gt; | country_code &lt;dbl&gt; |\n",
       "|---|---|---|---|---|---|---|---|---|---|---|---|---|---|---|---|---|\n",
       "| Jw1Y-zhQURU | 17.14.11 | John Lewis Christmas Ad 2017 - #MozTheMonster                                | John Lewis                 | 26 | 2017-11-10T07:38:29.000Z | christmas|john lewis christmas|john lewis|christmas ad|mozthemonster|christmas 2017|christmas ad 2017|john lewis christmas advert|moz                                                                                                                                                                                                                                                            |  7224515 |  55681 | 10247 |   9479 | https://i.ytimg.com/vi/Jw1Y-zhQURU/default.jpg | False | False | False | Click here to continue the story and make your own monster:\\nhttp://bit.ly/2mboXgj\\n\\nJoe befriends a noisy Monster under his bed but the two have so much fun together that he can't get to sleep, leaving him tired by day. For Christmas Joe receives a gift to help him finally get a good nightâ€™s sleep.\\n\\nShop the ad\\nhttp://bit.ly/2hg04Lc\\n\\nThe music is Golden Slumbers performed by elbow, the original song was by The Beatles. \\nFind the track:\\nhttps://Elbow.lnk.to/GoldenSlumbersXS\\n\\nSubscribe to this channel for regular video updates\\nhttp://bit.ly/2eU8MvW\\n\\nIf you want to hear more from John Lewis:\\n\\nLike John Lewis on Facebook\\nhttp://www.facebook.com/johnlewisretail\\n\\nFollow John Lewis on Twitter\\nhttp://twitter.com/johnlewisretail\\n\\nFollow John Lewis on Instagram\\nhttp://instagram.com/johnlewisretail                                                                   | 2 |\n",
       "| 3s1rvMFUweQ | 17.14.11 | Taylor Swift: â€¦Ready for It? (Live) - SNL                                  | Saturday Night Live        | 24 | 2017-11-12T06:24:44.000Z | SNL|Saturday Night Live|SNL Season 43|Episode 1730|Tiffany Haddish|Taylor Swift|Taylor Swift Ready for It|s43|s43e5|episode 5|live|new york|comedy|sketch|funny|hilarious|late night|host|music|guest|laugh|impersonation|actor|improv|musician|comedian|actress|If Loving You Is Wrong|Oprah Winfrey|OWN|Girls Trip|The Carmichael Show|Keanu|Reputation|Look What You Made Me Do|ready for it? |  1053632 |  25561 |  2294 |   2757 | https://i.ytimg.com/vi/3s1rvMFUweQ/default.jpg | False | False | False | Musical guest Taylor Swift performs â€¦Ready for It? on Saturday Night Live.\\n\\n#SNL #SNL43\\n\\nGet more SNL: http://www.nbc.com/saturday-night-live\\nFull Episodes: http://www.nbc.com/saturday-night-liv...\\n\\nLike SNL: https://www.facebook.com/snl\\nFollow SNL: https://twitter.com/nbcsnl\\nSNL Tumblr: http://nbcsnl.tumblr.com/\\nSNL Instagram: http://instagram.com/nbcsnl \\nSNL Pinterest: http://www.pinterest.com/nbcsnl/                                                                                                                                                                                                                                                                                                                                                                                                                                                                                                    | 2 |\n",
       "| n1WpP7iowLc | 17.14.11 | Eminem - Walk On Water (Audio) ft. BeyoncÃ©                                  | EminemVEVO                 | 10 | 2017-11-10T17:00:03.000Z | Eminem|Walk|On|Water|Aftermath/Shady/Interscope|Rap                                                                                                                                                                                                                                                                                                                                              | 17158579 | 787420 | 43420 | 125882 | https://i.ytimg.com/vi/n1WpP7iowLc/default.jpg | False | False | False | Eminem's new track Walk on Water ft. BeyoncÃ© is available everywhere: http://shady.sr/WOWEminem \\nPlaylist Best of Eminem: https://goo.gl/AquNpo\\nSubscribe for more: https://goo.gl/DxCrDV\\n\\nFor more visit: \\nhttp://eminem.com\\nhttp://facebook.com/eminem\\nhttp://twitter.com/eminem\\nhttp://instagram.com/eminem\\nhttp://eminem.tumblr.com\\nhttp://shadyrecords.com\\nhttp://facebook.com/shadyrecords\\nhttp://twitter.com/shadyrecords\\nhttp://instagram.com/shadyrecords\\nhttp://trustshady.tumblr.com\\n\\nMusic video by Eminem performing Walk On Water. (C) 2017 Aftermath Records\\nhttp://vevo.ly/gA7xKt                                                                                                                                                                                                                                                                                                              | 2 |\n",
       "| PUTEiSjKwJU | 17.14.11 | Goals from Salford City vs Class of 92 and Friends at The Peninsula Stadium! | Salford City Football Club | 17 | 2017-11-13T02:30:38.000Z | Salford City FC|Salford City|Salford|Class of 92|University of Salford|Salford Uni|Non League|National League|National League North                                                                                                                                                                                                                                                              |    27833 |    193 |    12 |     37 | https://i.ytimg.com/vi/PUTEiSjKwJU/default.jpg | False | False | False | Salford drew 4-4 against the Class of 92 and Friends at the newly opened The Peninsula Stadium!\\n\\nLike us on Facebook: https://www.facebook.com/SalfordCityFC/ \\nFollow us on Twitter: https://twitter.com/SalfordCityFC\\nFollow us on Instagram: https://www.instagram.com/salfordcityfc/ \\nSubscribe to us on YouTube: https://www.youtube.com/user/SalfordCityTV\\n\\nWebsite: https://salfordcityfc.co.uk                                                                                                                                                                                                                                                                                                                                                                                                                                                                                                                               | 2 |\n",
       "| rHwDegptbI4 | 17.14.11 | Dashcam captures truck's near miss with child in Norway                      | Cute Girl Videos           | 25 | 2017-11-13T01:45:13.000Z | [none]                                                                                                                                                                                                                                                                                                                                                                                           |     9815 |     30 |     2 |     30 | https://i.ytimg.com/vi/rHwDegptbI4/default.jpg | False | False | False | Dashcam captures truck's near miss with child in Norway\\nThe close call happened as children were getting off a school bus in Norway.\\n\\nEurope\\nNorway                                                                                                                                                                                                                                                                                                                                                                                                                                                                                                                                                                                                                                                                                                                                                                                       | 2 |\n",
       "| AumaWl0TNBo | 17.14.11 | How My Relationship Started!                                                 | PointlessBlogVlogs         | 24 | 2017-11-11T17:00:00.000Z | pointlessblog|pointlessblogtv|pointlessblogvlogs|games|gaming|daily|vlog|zoe|sugg|funny|zoella|zozeebo|new|house|nala|cute|puppy|british|teen|couple|zalfie|how|my|relationship|started|first|time|kiss|niomi|smart|trip|adventure|travel|holiday|merch|pb|office|tour                                                                                                                           |  1182775 |  52708 |  1431 |   2333 | https://i.ytimg.com/vi/AumaWl0TNBo/default.jpg | False | False | False | â–º HOW MY RELATIONSHIP STARTED!\\nâ–º PB Merch â€¢ http://bit.ly/New-PBMerch \\nâ–º PB Merch â€¢ http://bit.ly/New-PBMerch \\n----------------------------------------Â­Â­Â­Â­Â­Â­Â­----------------------------------Â­-Â­-Â­-Â­\\nâ€¢ My Links â€¢\\nMain Channel â€¢ http://youtube.com/pointlessblog \\nGaming Channel â€¢ http://youtube.com/AlfieGames \\nTwitter â€¢ https://twitter.com/pointlessblog \\nFacebook â€¢ http://fb.com/PointlessBlogTv \\nTumblr â€¢ http://pointlessblogtv.tumblr.com \\nSnapChat â€¢ PointlessBlog\\n----------------------------------------Â­Â­Â­Â­Â­Â­Â­----------------------------------Â­-Â­-Â­-Â­-\\nâ€¢ Music â€¢\\nAndrew Applepie\\n----------------------------------------Â­Â­Â­Â­Â­Â­Â­----------------------------------Â­-Â­-Â­-Â­-\\nâ€¢ Contact â€¢ Enquiries@PointlessBlog.co.uk\\n----------------------------------------Â­Â­Â­Â­Â­Â­Â­----------------------------------Â­-Â­-Â­-Â­- | 2 |\n",
       "\n"
      ],
      "text/plain": [
       "  video_id    trending_date\n",
       "1 Jw1Y-zhQURU 17.14.11     \n",
       "2 3s1rvMFUweQ 17.14.11     \n",
       "3 n1WpP7iowLc 17.14.11     \n",
       "4 PUTEiSjKwJU 17.14.11     \n",
       "5 rHwDegptbI4 17.14.11     \n",
       "6 AumaWl0TNBo 17.14.11     \n",
       "  title                                                                       \n",
       "1 John Lewis Christmas Ad 2017 - #MozTheMonster                               \n",
       "2 Taylor Swift: â\\200¦Ready for It? (Live) - SNL                                 \n",
       "3 Eminem - Walk On Water (Audio) ft. BeyoncÃ©                                 \n",
       "4 Goals from Salford City vs Class of 92 and Friends at The Peninsula Stadium!\n",
       "5 Dashcam captures truck's near miss with child in Norway                     \n",
       "6 How My Relationship Started!                                                \n",
       "  channel_title              category_id publish_time            \n",
       "1 John Lewis                 26          2017-11-10T07:38:29.000Z\n",
       "2 Saturday Night Live        24          2017-11-12T06:24:44.000Z\n",
       "3 EminemVEVO                 10          2017-11-10T17:00:03.000Z\n",
       "4 Salford City Football Club 17          2017-11-13T02:30:38.000Z\n",
       "5 Cute Girl Videos           25          2017-11-13T01:45:13.000Z\n",
       "6 PointlessBlogVlogs         24          2017-11-11T17:00:00.000Z\n",
       "  tags                                                                                                                                                                                                                                                                                                                                                                                            \n",
       "1 christmas|john lewis christmas|john lewis|christmas ad|mozthemonster|christmas 2017|christmas ad 2017|john lewis christmas advert|moz                                                                                                                                                                                                                                                           \n",
       "2 SNL|Saturday Night Live|SNL Season 43|Episode 1730|Tiffany Haddish|Taylor Swift|Taylor Swift Ready for It|s43|s43e5|episode 5|live|new york|comedy|sketch|funny|hilarious|late night|host|music|guest|laugh|impersonation|actor|improv|musician|comedian|actress|If Loving You Is Wrong|Oprah Winfrey|OWN|Girls Trip|The Carmichael Show|Keanu|Reputation|Look What You Made Me Do|ready for it?\n",
       "3 Eminem|Walk|On|Water|Aftermath/Shady/Interscope|Rap                                                                                                                                                                                                                                                                                                                                             \n",
       "4 Salford City FC|Salford City|Salford|Class of 92|University of Salford|Salford Uni|Non League|National League|National League North                                                                                                                                                                                                                                                             \n",
       "5 [none]                                                                                                                                                                                                                                                                                                                                                                                          \n",
       "6 pointlessblog|pointlessblogtv|pointlessblogvlogs|games|gaming|daily|vlog|zoe|sugg|funny|zoella|zozeebo|new|house|nala|cute|puppy|british|teen|couple|zalfie|how|my|relationship|started|first|time|kiss|niomi|smart|trip|adventure|travel|holiday|merch|pb|office|tour                                                                                                                          \n",
       "  views    likes  dislikes comment_count\n",
       "1  7224515  55681 10247      9479       \n",
       "2  1053632  25561  2294      2757       \n",
       "3 17158579 787420 43420    125882       \n",
       "4    27833    193    12        37       \n",
       "5     9815     30     2        30       \n",
       "6  1182775  52708  1431      2333       \n",
       "  thumbnail_link                                 comments_disabled\n",
       "1 https://i.ytimg.com/vi/Jw1Y-zhQURU/default.jpg False            \n",
       "2 https://i.ytimg.com/vi/3s1rvMFUweQ/default.jpg False            \n",
       "3 https://i.ytimg.com/vi/n1WpP7iowLc/default.jpg False            \n",
       "4 https://i.ytimg.com/vi/PUTEiSjKwJU/default.jpg False            \n",
       "5 https://i.ytimg.com/vi/rHwDegptbI4/default.jpg False            \n",
       "6 https://i.ytimg.com/vi/AumaWl0TNBo/default.jpg False            \n",
       "  ratings_disabled video_error_or_removed\n",
       "1 False            False                 \n",
       "2 False            False                 \n",
       "3 False            False                 \n",
       "4 False            False                 \n",
       "5 False            False                 \n",
       "6 False            False                 \n",
       "  description                                                                                                                                                                                                                                                                                                                                                                                                                                                                                                                                                                                                                                                                                                                                                                                                                                                                                                                                      \n",
       "1 Click here to continue the story and make your own monster:\\\\nhttp://bit.ly/2mboXgj\\\\n\\\\nJoe befriends a noisy Monster under his bed but the two have so much fun together that he can't get to sleep, leaving him tired by day. For Christmas Joe receives a gift to help him finally get a good nightâ\\200\\231s sleep.\\\\n\\\\nShop the ad\\\\nhttp://bit.ly/2hg04Lc\\\\n\\\\nThe music is Golden Slumbers performed by elbow, the original song was by The Beatles. \\\\nFind the track:\\\\nhttps://Elbow.lnk.to/GoldenSlumbersXS\\\\n\\\\nSubscribe to this channel for regular video updates\\\\nhttp://bit.ly/2eU8MvW\\\\n\\\\nIf you want to hear more from John Lewis:\\\\n\\\\nLike John Lewis on Facebook\\\\nhttp://www.facebook.com/johnlewisretail\\\\n\\\\nFollow John Lewis on Twitter\\\\nhttp://twitter.com/johnlewisretail\\\\n\\\\nFollow John Lewis on Instagram\\\\nhttp://instagram.com/johnlewisretail                                                                  \n",
       "2 Musical guest Taylor Swift performs â\\200¦Ready for It? on Saturday Night Live.\\\\n\\\\n#SNL #SNL43\\\\n\\\\nGet more SNL: http://www.nbc.com/saturday-night-live\\\\nFull Episodes: http://www.nbc.com/saturday-night-liv...\\\\n\\\\nLike SNL: https://www.facebook.com/snl\\\\nFollow SNL: https://twitter.com/nbcsnl\\\\nSNL Tumblr: http://nbcsnl.tumblr.com/\\\\nSNL Instagram: http://instagram.com/nbcsnl \\\\nSNL Pinterest: http://www.pinterest.com/nbcsnl/                                                                                                                                                                                                                                                                                                                                                                                                                                                                                                   \n",
       "3 Eminem's new track Walk on Water ft. BeyoncÃ© is available everywhere: http://shady.sr/WOWEminem \\\\nPlaylist Best of Eminem: https://goo.gl/AquNpo\\\\nSubscribe for more: https://goo.gl/DxCrDV\\\\n\\\\nFor more visit: \\\\nhttp://eminem.com\\\\nhttp://facebook.com/eminem\\\\nhttp://twitter.com/eminem\\\\nhttp://instagram.com/eminem\\\\nhttp://eminem.tumblr.com\\\\nhttp://shadyrecords.com\\\\nhttp://facebook.com/shadyrecords\\\\nhttp://twitter.com/shadyrecords\\\\nhttp://instagram.com/shadyrecords\\\\nhttp://trustshady.tumblr.com\\\\n\\\\nMusic video by Eminem performing Walk On Water. (C) 2017 Aftermath Records\\\\nhttp://vevo.ly/gA7xKt                                                                                                                                                                                                                                                                                                             \n",
       "4 Salford drew 4-4 against the Class of 92 and Friends at the newly opened The Peninsula Stadium!\\\\n\\\\nLike us on Facebook: https://www.facebook.com/SalfordCityFC/ \\\\nFollow us on Twitter: https://twitter.com/SalfordCityFC\\\\nFollow us on Instagram: https://www.instagram.com/salfordcityfc/ \\\\nSubscribe to us on YouTube: https://www.youtube.com/user/SalfordCityTV\\\\n\\\\nWebsite: https://salfordcityfc.co.uk                                                                                                                                                                                                                                                                                                                                                                                                                                                                                                                              \n",
       "5 Dashcam captures truck's near miss with child in Norway\\\\nThe close call happened as children were getting off a school bus in Norway.\\\\n\\\\nEurope\\\\nNorway                                                                                                                                                                                                                                                                                                                                                                                                                                                                                                                                                                                                                                                                                                                                                                                      \n",
       "6 â–º HOW MY RELATIONSHIP STARTED!\\\\nâ–º PB Merch â\\200¢ http://bit.ly/New-PBMerch \\\\nâ–º PB Merch â\\200¢ http://bit.ly/New-PBMerch \\\\n----------------------------------------Â­Â­Â­Â­Â­Â­Â­----------------------------------Â­-Â­-Â­-Â­\\\\nâ\\200¢ My Links â\\200¢\\\\nMain Channel â\\200¢ http://youtube.com/pointlessblog \\\\nGaming Channel â\\200¢ http://youtube.com/AlfieGames \\\\nTwitter â\\200¢ https://twitter.com/pointlessblog \\\\nFacebook â\\200¢ http://fb.com/PointlessBlogTv \\\\nTumblr â\\200¢ http://pointlessblogtv.tumblr.com \\\\nSnapChat â\\200¢ PointlessBlog\\\\n----------------------------------------Â­Â­Â­Â­Â­Â­Â­----------------------------------Â­-Â­-Â­-Â­-\\\\nâ\\200¢ Music â\\200¢\\\\nAndrew Applepie\\\\n----------------------------------------Â­Â­Â­Â­Â­Â­Â­----------------------------------Â­-Â­-Â­-Â­-\\\\nâ\\200¢ Contact â\\200¢ Enquiries@PointlessBlog.co.uk\\\\n----------------------------------------Â­Â­Â­Â­Â­Â­Â­----------------------------------Â­-Â­-Â­-Â­-\n",
       "  country_code\n",
       "1 2           \n",
       "2 2           \n",
       "3 2           \n",
       "4 2           \n",
       "5 2           \n",
       "6 2           "
      ]
     },
     "metadata": {},
     "output_type": "display_data"
    }
   ],
   "source": [
    "head(britain_video)"
   ]
  },
  {
   "cell_type": "markdown",
   "metadata": {},
   "source": [
    "The new column is created. We can now proceed to split our datasets into training and test sets. The split is 75:25."
   ]
  },
  {
   "cell_type": "code",
   "execution_count": 18,
   "metadata": {},
   "outputs": [],
   "source": [
    "#Set the seed to maintain randomness\n",
    "\n",
    "#FRANCE\n",
    "set.seed(123)\n",
    "france_split <- sample.split(france_video$views, SplitRatio = 0.75)\n",
    "france_training_set <- subset(france_video, france_split == TRUE)\n",
    "france_test_set <- subset(france_video, france_split == FALSE)\n",
    "\n",
    "#BRITAIN\n",
    "set.seed(123)\n",
    "britain_split <- sample.split(britain_video$views, SplitRatio = 0.75)\n",
    "britain_training_set <- subset(britain_video, britain_split == TRUE)\n",
    "britain_test_set <- subset(britain_video, britain_split == FALSE)\n",
    "\n",
    "#GERMANY\n",
    "set.seed(123)\n",
    "germany_split <- sample.split(germany_video$views, SplitRatio = 0.75)\n",
    "germany_training_set <- subset(germany_video, germany_split == TRUE)\n",
    "germany_test_set <- subset(germany_video, germany_split == FALSE)\n",
    "\n",
    "#INDIA\n",
    "set.seed(123)\n",
    "india_split <- sample.split(india_video$views, SplitRatio = 0.75)\n",
    "india_training_set <- subset(india_video, india_split == TRUE)\n",
    "india_test_set <- subset(india_video, india_split == FALSE)\n",
    "\n",
    "#JAPAN\n",
    "set.seed(123)\n",
    "japan_split <- sample.split(japan_video$views, SplitRatio = 0.75)\n",
    "japan_training_set <- subset(japan_video, japan_split == TRUE)\n",
    "japan_test_set <- subset(japan_video, japan_split == FALSE)\n",
    "\n",
    "#KOREA\n",
    "set.seed(123)\n",
    "korea_split <- sample.split(korea_video$views, SplitRatio = 0.75)\n",
    "korea_training_set <- subset(korea_video, korea_split == TRUE)\n",
    "korea_test_set <- subset(korea_video, korea_split == FALSE)\n",
    "\n",
    "#MEXICO\n",
    "set.seed(123)\n",
    "mexico_split <- sample.split(mexico_video$views, SplitRatio = 0.75)\n",
    "mexico_training_set <- subset(mexico_video, mexico_split == TRUE)\n",
    "mexico_test_set <- subset(mexico_video, mexico_split == FALSE)\n",
    "\n",
    "#RUSSIA\n",
    "set.seed(123)\n",
    "russia_split <- sample.split(russia_video$views, SplitRatio = 0.75)\n",
    "russia_training_set <- subset(russia_video, russia_split == TRUE)\n",
    "russia_test_set <- subset(russia_video, russia_split == FALSE)\n",
    "\n",
    "#USA\n",
    "set.seed(123)\n",
    "usa_split <- sample.split(usa_video$views, SplitRatio = 0.75)\n",
    "usa_training_set <- subset(usa_video, usa_split == TRUE)\n",
    "usa_test_set <- subset(usa_video, usa_split == FALSE)\n",
    "\n",
    "#CANADA\n",
    "set.seed(123)\n",
    "canada_split <- sample.split(canada_video$views, SplitRatio = 0.75)\n",
    "canada_training_set <- subset(canada_video, canada_split == TRUE)\n",
    "canada_test_set <- subset(canada_video, canada_split == FALSE)"
   ]
  },
  {
   "cell_type": "markdown",
   "metadata": {},
   "source": [
    "Our data has been split into training and test sets based on the countries. This is a straified random assignment. Now, we will merge all our training and test sets into two dataframes. "
   ]
  },
  {
   "cell_type": "code",
   "execution_count": 23,
   "metadata": {},
   "outputs": [
    {
     "name": "stderr",
     "output_type": "stream",
     "text": [
      "Warning message in `[<-.factor`(`*tmp*`, ri, value = c(FALSE, FALSE, FALSE, FALSE, :\n",
      "\"invalid factor level, NA generated\"Warning message in `[<-.factor`(`*tmp*`, ri, value = c(FALSE, FALSE, FALSE, FALSE, :\n",
      "\"invalid factor level, NA generated\"Warning message in `[<-.factor`(`*tmp*`, ri, value = c(FALSE, FALSE, FALSE, FALSE, :\n",
      "\"invalid factor level, NA generated\"Warning message in `[<-.factor`(`*tmp*`, ri, value = c(TRUE, FALSE, FALSE, FALSE, :\n",
      "\"invalid factor level, NA generated\"Warning message in `[<-.factor`(`*tmp*`, ri, value = c(FALSE, FALSE, TRUE, FALSE, :\n",
      "\"invalid factor level, NA generated\"Warning message in `[<-.factor`(`*tmp*`, ri, value = c(FALSE, FALSE, FALSE, FALSE, :\n",
      "\"invalid factor level, NA generated\"Warning message in `[<-.factor`(`*tmp*`, ri, value = c(FALSE, FALSE, FALSE, FALSE, :\n",
      "\"invalid factor level, NA generated\"Warning message in `[<-.factor`(`*tmp*`, ri, value = c(FALSE, FALSE, FALSE, FALSE, :\n",
      "\"invalid factor level, NA generated\"Warning message in `[<-.factor`(`*tmp*`, ri, value = c(FALSE, FALSE, FALSE, FALSE, :\n",
      "\"invalid factor level, NA generated\"Warning message in `[<-.factor`(`*tmp*`, ri, value = c(FALSE, FALSE, FALSE, FALSE, :\n",
      "\"invalid factor level, NA generated\"Warning message in `[<-.factor`(`*tmp*`, ri, value = c(FALSE, FALSE, FALSE, FALSE, :\n",
      "\"invalid factor level, NA generated\"Warning message in `[<-.factor`(`*tmp*`, ri, value = c(FALSE, FALSE, FALSE, FALSE, :\n",
      "\"invalid factor level, NA generated\"Warning message in `[<-.factor`(`*tmp*`, ri, value = c(FALSE, FALSE, FALSE, FALSE, :\n",
      "\"invalid factor level, NA generated\"Warning message in `[<-.factor`(`*tmp*`, ri, value = c(FALSE, FALSE, FALSE, FALSE, :\n",
      "\"invalid factor level, NA generated\"Warning message in `[<-.factor`(`*tmp*`, ri, value = c(FALSE, FALSE, FALSE, FALSE, :\n",
      "\"invalid factor level, NA generated\"Warning message in `[<-.factor`(`*tmp*`, ri, value = c(TRUE, FALSE, FALSE, FALSE, :\n",
      "\"invalid factor level, NA generated\"Warning message in `[<-.factor`(`*tmp*`, ri, value = c(FALSE, FALSE, FALSE, FALSE, :\n",
      "\"invalid factor level, NA generated\"Warning message in `[<-.factor`(`*tmp*`, ri, value = c(FALSE, FALSE, FALSE, FALSE, :\n",
      "\"invalid factor level, NA generated\"Warning message in `[<-.factor`(`*tmp*`, ri, value = c(FALSE, FALSE, FALSE, FALSE, :\n",
      "\"invalid factor level, NA generated\"Warning message in `[<-.factor`(`*tmp*`, ri, value = c(FALSE, FALSE, FALSE, FALSE, :\n",
      "\"invalid factor level, NA generated\"Warning message in `[<-.factor`(`*tmp*`, ri, value = c(FALSE, FALSE, FALSE, FALSE, :\n",
      "\"invalid factor level, NA generated\"Warning message in `[<-.factor`(`*tmp*`, ri, value = c(FALSE, FALSE, FALSE, FALSE, :\n",
      "\"invalid factor level, NA generated\"Warning message in `[<-.factor`(`*tmp*`, ri, value = c(FALSE, FALSE, FALSE, FALSE, :\n",
      "\"invalid factor level, NA generated\"Warning message in `[<-.factor`(`*tmp*`, ri, value = c(FALSE, FALSE, FALSE, FALSE, :\n",
      "\"invalid factor level, NA generated\"Warning message in `[<-.factor`(`*tmp*`, ri, value = c(FALSE, FALSE, FALSE, TRUE, :\n",
      "\"invalid factor level, NA generated\"Warning message in `[<-.factor`(`*tmp*`, ri, value = c(FALSE, FALSE, FALSE, FALSE, :\n",
      "\"invalid factor level, NA generated\"Warning message in `[<-.factor`(`*tmp*`, ri, value = c(FALSE, FALSE, FALSE, FALSE, :\n",
      "\"invalid factor level, NA generated\"Warning message in `[<-.factor`(`*tmp*`, ri, value = c(FALSE, FALSE, FALSE, FALSE, :\n",
      "\"invalid factor level, NA generated\"Warning message in `[<-.factor`(`*tmp*`, ri, value = c(FALSE, FALSE, FALSE, FALSE, :\n",
      "\"invalid factor level, NA generated\"Warning message in `[<-.factor`(`*tmp*`, ri, value = c(FALSE, FALSE, FALSE, FALSE, :\n",
      "\"invalid factor level, NA generated\""
     ]
    }
   ],
   "source": [
    "#Merge the training sets\n",
    "training_set  <-  rbind(france_training_set, britain_training_set, germany_training_set, india_training_set, \n",
    "                       japan_training_set, korea_training_set, mexico_training_set, russia_training_set,\n",
    "                       usa_training_set, canada_training_set)\n",
    "\n",
    "#Merge the test sets\n",
    "test_set  <-  rbind(france_test_set, britain_test_set, germany_test_set, india_test_set, \n",
    "                       japan_test_set, korea_test_set, mexico_test_set, russia_test_set,\n",
    "                       usa_test_set, canada_test_set)"
   ]
  },
  {
   "cell_type": "markdown",
   "metadata": {},
   "source": [
    "Lets view our training set and test sets."
   ]
  },
  {
   "cell_type": "code",
   "execution_count": 25,
   "metadata": {},
   "outputs": [
    {
     "data": {
      "text/html": [
       "281954"
      ],
      "text/latex": [
       "281954"
      ],
      "text/markdown": [
       "281954"
      ],
      "text/plain": [
       "[1] 281954"
      ]
     },
     "metadata": {},
     "output_type": "display_data"
    },
    {
     "data": {
      "text/html": [
       "17"
      ],
      "text/latex": [
       "17"
      ],
      "text/markdown": [
       "17"
      ],
      "text/plain": [
       "[1] 17"
      ]
     },
     "metadata": {},
     "output_type": "display_data"
    },
    {
     "data": {
      "text/html": [
       "93988"
      ],
      "text/latex": [
       "93988"
      ],
      "text/markdown": [
       "93988"
      ],
      "text/plain": [
       "[1] 93988"
      ]
     },
     "metadata": {},
     "output_type": "display_data"
    },
    {
     "data": {
      "text/html": [
       "17"
      ],
      "text/latex": [
       "17"
      ],
      "text/markdown": [
       "17"
      ],
      "text/plain": [
       "[1] 17"
      ]
     },
     "metadata": {},
     "output_type": "display_data"
    }
   ],
   "source": [
    "#Number of rows for training set\n",
    "nrow(training_set)\n",
    "#Number of columns for training set\n",
    "ncol(test_set)\n",
    "#Number of rows for test set\n",
    "nrow(test_set)\n",
    "#Number of columns for test set\n",
    "ncol(test_set)"
   ]
  },
  {
   "cell_type": "markdown",
   "metadata": {},
   "source": [
    "## Exploratory Data Analysis\n",
    "\n",
    "At this stage, we will perform exploratory data analysis to see trends within the data. We will also perform data cleaning to choose only variables we are interested in. First, we will select only variables we are interested in. "
   ]
  },
  {
   "cell_type": "code",
   "execution_count": 29,
   "metadata": {},
   "outputs": [],
   "source": [
    "#Select our 5 variables of interest on our training and test sets\n",
    "training_set  <- subset(training_set, select = c('category_id', 'views', 'comments_disabled', \n",
    "                                                 'ratings_disabled', 'country_code'))\n",
    "\n",
    "test_set  <- subset(test_set, select = c('category_id', 'views', 'comments_disabled', \n",
    "                                                 'ratings_disabled', 'country_code'))"
   ]
  },
  {
   "cell_type": "markdown",
   "metadata": {},
   "source": [
    "Now, we can look for trends in our data"
   ]
  },
  {
   "cell_type": "code",
   "execution_count": 31,
   "metadata": {},
   "outputs": [
    {
     "data": {
      "text/plain": [
       "  category_id        views           comments_disabled ratings_disabled\n",
       " Min.   : 1.00   Min.   :      117   False:148856      False:150146    \n",
       " 1st Qu.:17.00   1st Qu.:    47181   True :  2875      True :  1585    \n",
       " Median :23.00   Median :   178034   NA's :130223      NA's :130223    \n",
       " Mean   :20.23   Mean   :  1329972                                     \n",
       " 3rd Qu.:24.00   3rd Qu.:   648956                                     \n",
       " Max.   :44.00   Max.   :424538912                                     \n",
       "  country_code   \n",
       " Min.   : 1.000  \n",
       " 1st Qu.: 3.000  \n",
       " Median : 6.000  \n",
       " Mean   : 5.551  \n",
       " 3rd Qu.: 8.000  \n",
       " Max.   :10.000  "
      ]
     },
     "metadata": {},
     "output_type": "display_data"
    },
    {
     "data": {
      "text/plain": [
       "  category_id        views           comments_disabled ratings_disabled\n",
       " Min.   : 1.00   Min.   :      153   False:49622       False:50068     \n",
       " 1st Qu.:17.00   1st Qu.:    46469   True :  957       True :  511     \n",
       " Median :23.00   Median :   175276   NA's :43409       NA's :43409     \n",
       " Mean   :20.23   Mean   :  1316356                                     \n",
       " 3rd Qu.:24.00   3rd Qu.:   644637                                     \n",
       " Max.   :44.00   Max.   :413586699                                     \n",
       "  country_code   \n",
       " Min.   : 1.000  \n",
       " 1st Qu.: 3.000  \n",
       " Median : 6.000  \n",
       " Mean   : 5.551  \n",
       " 3rd Qu.: 8.000  \n",
       " Max.   :10.000  "
      ]
     },
     "metadata": {},
     "output_type": "display_data"
    }
   ],
   "source": [
    "#Describe both datasets\n",
    "summary(training_set)\n",
    "summary(test_set)"
   ]
  },
  {
   "cell_type": "markdown",
   "metadata": {},
   "source": [
    "We can see that we have some NAs among the comments_disabled and ratings_disabled variables. Let's check for patterns within the NAs to see if we can imput predictions."
   ]
  },
  {
   "cell_type": "code",
   "execution_count": 34,
   "metadata": {},
   "outputs": [
    {
     "data": {
      "text/html": [
       "<table>\n",
       "<caption>A data.frame: 6 × 5</caption>\n",
       "<thead>\n",
       "\t<tr><th></th><th scope=col>category_id</th><th scope=col>views</th><th scope=col>comments_disabled</th><th scope=col>ratings_disabled</th><th scope=col>country_code</th></tr>\n",
       "\t<tr><th></th><th scope=col>&lt;int&gt;</th><th scope=col>&lt;int&gt;</th><th scope=col>&lt;fct&gt;</th><th scope=col>&lt;fct&gt;</th><th scope=col>&lt;dbl&gt;</th></tr>\n",
       "</thead>\n",
       "<tbody>\n",
       "\t<tr><th scope=row>111</th><td> 1</td><td>1096327</td><td>NA</td><td>NA</td><td>4</td></tr>\n",
       "\t<tr><th scope=row>34</th><td>24</td><td> 473988</td><td>NA</td><td>NA</td><td>4</td></tr>\n",
       "\t<tr><th scope=row>68</th><td>24</td><td>6106669</td><td>NA</td><td>NA</td><td>4</td></tr>\n",
       "\t<tr><th scope=row>727</th><td>10</td><td>5718766</td><td>NA</td><td>NA</td><td>4</td></tr>\n",
       "\t<tr><th scope=row>930</th><td>24</td><td> 118223</td><td>NA</td><td>NA</td><td>4</td></tr>\n",
       "\t<tr><th scope=row>107</th><td>24</td><td> 969030</td><td>NA</td><td>NA</td><td>4</td></tr>\n",
       "</tbody>\n",
       "</table>\n"
      ],
      "text/latex": [
       "A data.frame: 6 × 5\n",
       "\\begin{tabular}{r|lllll}\n",
       "  & category\\_id & views & comments\\_disabled & ratings\\_disabled & country\\_code\\\\\n",
       "  & <int> & <int> & <fct> & <fct> & <dbl>\\\\\n",
       "\\hline\n",
       "\t111 &  1 & 1096327 & NA & NA & 4\\\\\n",
       "\t34 & 24 &  473988 & NA & NA & 4\\\\\n",
       "\t68 & 24 & 6106669 & NA & NA & 4\\\\\n",
       "\t727 & 10 & 5718766 & NA & NA & 4\\\\\n",
       "\t930 & 24 &  118223 & NA & NA & 4\\\\\n",
       "\t107 & 24 &  969030 & NA & NA & 4\\\\\n",
       "\\end{tabular}\n"
      ],
      "text/markdown": [
       "\n",
       "A data.frame: 6 × 5\n",
       "\n",
       "| <!--/--> | category_id &lt;int&gt; | views &lt;int&gt; | comments_disabled &lt;fct&gt; | ratings_disabled &lt;fct&gt; | country_code &lt;dbl&gt; |\n",
       "|---|---|---|---|---|---|\n",
       "| 111 |  1 | 1096327 | NA | NA | 4 |\n",
       "| 34 | 24 |  473988 | NA | NA | 4 |\n",
       "| 68 | 24 | 6106669 | NA | NA | 4 |\n",
       "| 727 | 10 | 5718766 | NA | NA | 4 |\n",
       "| 930 | 24 |  118223 | NA | NA | 4 |\n",
       "| 107 | 24 |  969030 | NA | NA | 4 |\n",
       "\n"
      ],
      "text/plain": [
       "    category_id views   comments_disabled ratings_disabled country_code\n",
       "111  1          1096327 NA                NA               4           \n",
       "34  24           473988 NA                NA               4           \n",
       "68  24          6106669 NA                NA               4           \n",
       "727 10          5718766 NA                NA               4           \n",
       "930 24           118223 NA                NA               4           \n",
       "107 24           969030 NA                NA               4           "
      ]
     },
     "metadata": {},
     "output_type": "display_data"
    }
   ],
   "source": [
    "#Checking for NAs\n",
    "na_training_set  <- subset(training_set, is.na(comments_disabled))\n",
    "head(na_training_set)"
   ]
  },
  {
   "cell_type": "markdown",
   "metadata": {},
   "source": [
    "We could see that there is a pairwise NA relationship between both variables. We will develop two algorithms and compare. The first one will remove the NAs and make the prediction while the second one makes the prediction with two variables. "
   ]
  },
  {
   "cell_type": "markdown",
   "metadata": {},
   "source": [
    "Now, let's use the data with only two columns."
   ]
  },
  {
   "cell_type": "code",
   "execution_count": 37,
   "metadata": {},
   "outputs": [],
   "source": [
    "#Select only two columns\n",
    "three_columns_training_set  <- subset(training_set, select = c('category_id', 'views', 'country_code'))\n",
    "three_columns_test_set  <- subset(test_set, select = c('category_id', 'views', 'country_code'))"
   ]
  },
  {
   "cell_type": "markdown",
   "metadata": {},
   "source": [
    "## Modelling\n",
    "\n",
    "We will develop a predictive model for comparing both forms of data and choosing the best. Let's prepare our factor variables."
   ]
  },
  {
   "cell_type": "code",
   "execution_count": 39,
   "metadata": {},
   "outputs": [
    {
     "data": {
      "text/html": [
       "<table>\n",
       "<caption>A data.frame: 6 × 5</caption>\n",
       "<thead>\n",
       "\t<tr><th></th><th scope=col>category_id</th><th scope=col>views</th><th scope=col>comments_disabled</th><th scope=col>ratings_disabled</th><th scope=col>country_code</th></tr>\n",
       "\t<tr><th></th><th scope=col>&lt;int&gt;</th><th scope=col>&lt;int&gt;</th><th scope=col>&lt;fct&gt;</th><th scope=col>&lt;fct&gt;</th><th scope=col>&lt;dbl&gt;</th></tr>\n",
       "</thead>\n",
       "<tbody>\n",
       "\t<tr><th scope=row>1</th><td>24</td><td> 212702</td><td>False</td><td>False</td><td>1</td></tr>\n",
       "\t<tr><th scope=row>3</th><td>23</td><td> 482153</td><td>False</td><td>False</td><td>1</td></tr>\n",
       "\t<tr><th scope=row>6</th><td>23</td><td> 141253</td><td>False</td><td>False</td><td>1</td></tr>\n",
       "\t<tr><th scope=row>7</th><td>24</td><td> 187654</td><td>False</td><td>False</td><td>1</td></tr>\n",
       "\t<tr><th scope=row>9</th><td>24</td><td>2340941</td><td>False</td><td>False</td><td>1</td></tr>\n",
       "\t<tr><th scope=row>10</th><td>22</td><td> 635236</td><td>False</td><td>False</td><td>1</td></tr>\n",
       "</tbody>\n",
       "</table>\n"
      ],
      "text/latex": [
       "A data.frame: 6 × 5\n",
       "\\begin{tabular}{r|lllll}\n",
       "  & category\\_id & views & comments\\_disabled & ratings\\_disabled & country\\_code\\\\\n",
       "  & <int> & <int> & <fct> & <fct> & <dbl>\\\\\n",
       "\\hline\n",
       "\t1 & 24 &  212702 & False & False & 1\\\\\n",
       "\t3 & 23 &  482153 & False & False & 1\\\\\n",
       "\t6 & 23 &  141253 & False & False & 1\\\\\n",
       "\t7 & 24 &  187654 & False & False & 1\\\\\n",
       "\t9 & 24 & 2340941 & False & False & 1\\\\\n",
       "\t10 & 22 &  635236 & False & False & 1\\\\\n",
       "\\end{tabular}\n"
      ],
      "text/markdown": [
       "\n",
       "A data.frame: 6 × 5\n",
       "\n",
       "| <!--/--> | category_id &lt;int&gt; | views &lt;int&gt; | comments_disabled &lt;fct&gt; | ratings_disabled &lt;fct&gt; | country_code &lt;dbl&gt; |\n",
       "|---|---|---|---|---|---|\n",
       "| 1 | 24 |  212702 | False | False | 1 |\n",
       "| 3 | 23 |  482153 | False | False | 1 |\n",
       "| 6 | 23 |  141253 | False | False | 1 |\n",
       "| 7 | 24 |  187654 | False | False | 1 |\n",
       "| 9 | 24 | 2340941 | False | False | 1 |\n",
       "| 10 | 22 |  635236 | False | False | 1 |\n",
       "\n"
      ],
      "text/plain": [
       "   category_id views   comments_disabled ratings_disabled country_code\n",
       "1  24           212702 False             False            1           \n",
       "3  23           482153 False             False            1           \n",
       "6  23           141253 False             False            1           \n",
       "7  24           187654 False             False            1           \n",
       "9  24          2340941 False             False            1           \n",
       "10 22           635236 False             False            1           "
      ]
     },
     "metadata": {},
     "output_type": "display_data"
    }
   ],
   "source": [
    "head(withoutna_training_set)"
   ]
  },
  {
   "cell_type": "code",
   "execution_count": 43,
   "metadata": {},
   "outputs": [],
   "source": [
    "#Code factor variables\n",
    "three_columns_training_set$category_id  <- as.factor(three_columns_training_set$category_id)\n",
    "three_columns_training_set$country_code  <- as.factor(three_columns_training_set$country_code)\n",
    "\n",
    "three_columns_test_set$category_id  <- as.factor(three_columns_test_set$category_id)\n",
    "three_columns_test_set$country_code  <- as.factor(three_columns_test_set$country_code)\n"
   ]
  },
  {
   "cell_type": "code",
   "execution_count": 44,
   "metadata": {},
   "outputs": [],
   "source": [
    "#Linear model\n",
    "lm_regressor  <- lm(data = three_columns_training_set, formula = views ~.)"
   ]
  },
  {
   "cell_type": "code",
   "execution_count": 45,
   "metadata": {},
   "outputs": [
    {
     "data": {
      "text/plain": [
       "\n",
       "Call:\n",
       "lm(formula = views ~ ., data = three_columns_training_set)\n",
       "\n",
       "Residuals:\n",
       "      Min        1Q    Median        3Q       Max \n",
       " -8610035   -625817   -116222    220608 415926725 \n",
       "\n",
       "Coefficients:\n",
       "                Estimate Std. Error t value Pr(>|t|)    \n",
       "(Intercept)     396915.8    65105.2   6.097 1.09e-09 ***\n",
       "category_id2   -462765.7   126406.9  -3.661 0.000251 ***\n",
       "category_id10  3804540.4    66312.8  57.373  < 2e-16 ***\n",
       "category_id15  -908133.3   124311.3  -7.305 2.77e-13 ***\n",
       "category_id17  -263059.6    74114.2  -3.549 0.000386 ***\n",
       "category_id19  -804388.8   193104.4  -4.166 3.11e-05 ***\n",
       "category_id20  -710270.5    90123.2  -7.881 3.26e-15 ***\n",
       "category_id22  -462675.8    63518.4  -7.284 3.25e-13 ***\n",
       "category_id23  -331277.5    71680.4  -4.622 3.81e-06 ***\n",
       "category_id24  -208774.6    58924.0  -3.543 0.000395 ***\n",
       "category_id25  -617292.5    67373.4  -9.162  < 2e-16 ***\n",
       "category_id26  -843023.2    78406.2 -10.752  < 2e-16 ***\n",
       "category_id27  -904876.6   103141.1  -8.773  < 2e-16 ***\n",
       "category_id28  -234131.9   101568.1  -2.305 0.021158 *  \n",
       "category_id29  -279301.3   158564.1  -1.761 0.078165 .  \n",
       "category_id30  1165974.1  1320489.2   0.883 0.377244    \n",
       "category_id43  -466992.9   251112.1  -1.860 0.062929 .  \n",
       "category_id44  -497402.9  3364002.5  -0.148 0.882453    \n",
       "country_code2  4410730.3    56296.2  78.349  < 2e-16 ***\n",
       "country_code3   329418.1    54613.5   6.032 1.62e-09 ***\n",
       "country_code4   581795.9    56298.3  10.334  < 2e-16 ***\n",
       "country_code5     -577.1    66898.2  -0.009 0.993117    \n",
       "country_code6   224093.6    57441.8   3.901 9.57e-05 ***\n",
       "country_code7   -26524.3    54746.9  -0.484 0.628039    \n",
       "country_code8    64214.7    55148.2   1.164 0.244262    \n",
       "country_code9  1714556.3    54812.5  31.280  < 2e-16 ***\n",
       "country_code10  736639.6    54522.0  13.511  < 2e-16 ***\n",
       "---\n",
       "Signif. codes:  0 '***' 0.001 '**' 0.01 '*' 0.05 '.' 0.1 ' ' 1\n",
       "\n",
       "Residual standard error: 6727000 on 281927 degrees of freedom\n",
       "Multiple R-squared:  0.09046,\tAdjusted R-squared:  0.09038 \n",
       "F-statistic:  1078 on 26 and 281927 DF,  p-value: < 2.2e-16\n"
      ]
     },
     "metadata": {},
     "output_type": "display_data"
    }
   ],
   "source": [
    "summary(lm_regressor)"
   ]
  },
  {
   "cell_type": "code",
   "execution_count": null,
   "metadata": {},
   "outputs": [],
   "source": [
    "#Prediciton\n"
   ]
  },
  {
   "cell_type": "markdown",
   "metadata": {},
   "source": [
    "Using an SVM algorithm."
   ]
  },
  {
   "cell_type": "code",
   "execution_count": null,
   "metadata": {},
   "outputs": [],
   "source": [
    "#SVM\n",
    "library(e1071)\n",
    "regressor <- svm(formula= views ~ ., data = three_columns_training_set ,  type ='eps-regression')\n",
    "regressor\n"
   ]
  },
  {
   "cell_type": "code",
   "execution_count": null,
   "metadata": {},
   "outputs": [],
   "source": [
    "regressor"
   ]
  },
  {
   "cell_type": "markdown",
   "metadata": {},
   "source": [
    "## Evaluating the Model"
   ]
  },
  {
   "cell_type": "markdown",
   "metadata": {},
   "source": [
    "The linear model shows an R squared of 0.09 suggesting it is not the best model for the data. "
   ]
  },
  {
   "cell_type": "code",
   "execution_count": null,
   "metadata": {},
   "outputs": [],
   "source": []
  }
 ],
 "metadata": {
  "kernelspec": {
   "display_name": "R",
   "language": "R",
   "name": "ir"
  },
  "language_info": {
   "codemirror_mode": "r",
   "file_extension": ".r",
   "mimetype": "text/x-r-source",
   "name": "R",
   "pygments_lexer": "r",
   "version": "3.5.1"
  }
 },
 "nbformat": 4,
 "nbformat_minor": 2
}
